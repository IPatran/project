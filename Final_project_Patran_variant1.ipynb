{
 "cells": [
  {
   "cell_type": "code",
   "execution_count": 1,
   "metadata": {},
   "outputs": [],
   "source": [
    "import pandas as pd\n",
    "import seaborn as sns\n",
    "import matplotlib.pyplot as plt\n",
    "import matplotlib.colors as mcolors\n",
    "from datetime import datetime, timedelta\n",
    "from scipy.stats import ttest_ind\n",
    "from statsmodels.stats.proportion import proportions_ztest\n",
    "from scipy.stats import mannwhitneyu"
   ]
  },
  {
   "cell_type": "markdown",
   "metadata": {},
   "source": [
    "                                                    # Задание 1\n",
    "                                Retention – один из самых важных показателей в компании. \n",
    "    Ваша задача – написать функцию, которая будет считать retention игроков (по дням от даты регистрации игрока). "
   ]
  },
  {
   "cell_type": "code",
   "execution_count": 2,
   "metadata": {},
   "outputs": [],
   "source": [
    "reg_data_df = pd.read_csv(\"../shared/problem1-reg_data.csv\", sep=\";\")  # данные о времени регистрации"
   ]
  },
  {
   "cell_type": "code",
   "execution_count": 3,
   "metadata": {},
   "outputs": [
    {
     "data": {
      "text/html": [
       "<div>\n",
       "<style scoped>\n",
       "    .dataframe tbody tr th:only-of-type {\n",
       "        vertical-align: middle;\n",
       "    }\n",
       "\n",
       "    .dataframe tbody tr th {\n",
       "        vertical-align: top;\n",
       "    }\n",
       "\n",
       "    .dataframe thead th {\n",
       "        text-align: right;\n",
       "    }\n",
       "</style>\n",
       "<table border=\"1\" class=\"dataframe\">\n",
       "  <thead>\n",
       "    <tr style=\"text-align: right;\">\n",
       "      <th></th>\n",
       "      <th>reg_ts</th>\n",
       "      <th>uid</th>\n",
       "    </tr>\n",
       "  </thead>\n",
       "  <tbody>\n",
       "    <tr>\n",
       "      <th>0</th>\n",
       "      <td>911382223</td>\n",
       "      <td>1</td>\n",
       "    </tr>\n",
       "    <tr>\n",
       "      <th>1</th>\n",
       "      <td>932683089</td>\n",
       "      <td>2</td>\n",
       "    </tr>\n",
       "    <tr>\n",
       "      <th>2</th>\n",
       "      <td>947802447</td>\n",
       "      <td>3</td>\n",
       "    </tr>\n",
       "    <tr>\n",
       "      <th>3</th>\n",
       "      <td>959523541</td>\n",
       "      <td>4</td>\n",
       "    </tr>\n",
       "    <tr>\n",
       "      <th>4</th>\n",
       "      <td>969103313</td>\n",
       "      <td>5</td>\n",
       "    </tr>\n",
       "  </tbody>\n",
       "</table>\n",
       "</div>"
      ],
      "text/plain": [
       "      reg_ts  uid\n",
       "0  911382223    1\n",
       "1  932683089    2\n",
       "2  947802447    3\n",
       "3  959523541    4\n",
       "4  969103313    5"
      ]
     },
     "execution_count": 3,
     "metadata": {},
     "output_type": "execute_result"
    }
   ],
   "source": [
    "reg_data_df.head()"
   ]
  },
  {
   "cell_type": "code",
   "execution_count": 4,
   "metadata": {},
   "outputs": [
    {
     "data": {
      "text/plain": [
       "0"
      ]
     },
     "execution_count": 4,
     "metadata": {},
     "output_type": "execute_result"
    }
   ],
   "source": [
    "reg_data_df.duplicated().sum()"
   ]
  },
  {
   "cell_type": "code",
   "execution_count": 5,
   "metadata": {},
   "outputs": [],
   "source": [
    "auth_data_df = pd.read_csv(\"../shared/problem1-auth_data.csv\", sep=\";\")  # данные о времени захода пользователей в игру"
   ]
  },
  {
   "cell_type": "code",
   "execution_count": 6,
   "metadata": {},
   "outputs": [
    {
     "data": {
      "text/html": [
       "<div>\n",
       "<style scoped>\n",
       "    .dataframe tbody tr th:only-of-type {\n",
       "        vertical-align: middle;\n",
       "    }\n",
       "\n",
       "    .dataframe tbody tr th {\n",
       "        vertical-align: top;\n",
       "    }\n",
       "\n",
       "    .dataframe thead th {\n",
       "        text-align: right;\n",
       "    }\n",
       "</style>\n",
       "<table border=\"1\" class=\"dataframe\">\n",
       "  <thead>\n",
       "    <tr style=\"text-align: right;\">\n",
       "      <th></th>\n",
       "      <th>auth_ts</th>\n",
       "      <th>uid</th>\n",
       "    </tr>\n",
       "  </thead>\n",
       "  <tbody>\n",
       "    <tr>\n",
       "      <th>0</th>\n",
       "      <td>911382223</td>\n",
       "      <td>1</td>\n",
       "    </tr>\n",
       "    <tr>\n",
       "      <th>1</th>\n",
       "      <td>932683089</td>\n",
       "      <td>2</td>\n",
       "    </tr>\n",
       "    <tr>\n",
       "      <th>2</th>\n",
       "      <td>932921206</td>\n",
       "      <td>2</td>\n",
       "    </tr>\n",
       "    <tr>\n",
       "      <th>3</th>\n",
       "      <td>933393015</td>\n",
       "      <td>2</td>\n",
       "    </tr>\n",
       "    <tr>\n",
       "      <th>4</th>\n",
       "      <td>933875379</td>\n",
       "      <td>2</td>\n",
       "    </tr>\n",
       "  </tbody>\n",
       "</table>\n",
       "</div>"
      ],
      "text/plain": [
       "     auth_ts  uid\n",
       "0  911382223    1\n",
       "1  932683089    2\n",
       "2  932921206    2\n",
       "3  933393015    2\n",
       "4  933875379    2"
      ]
     },
     "execution_count": 6,
     "metadata": {},
     "output_type": "execute_result"
    }
   ],
   "source": [
    "auth_data_df.head()"
   ]
  },
  {
   "cell_type": "code",
   "execution_count": 7,
   "metadata": {},
   "outputs": [
    {
     "data": {
      "text/plain": [
       "0"
      ]
     },
     "execution_count": 7,
     "metadata": {},
     "output_type": "execute_result"
    }
   ],
   "source": [
    "auth_data_df.duplicated().sum()"
   ]
  },
  {
   "cell_type": "code",
   "execution_count": 8,
   "metadata": {},
   "outputs": [
    {
     "data": {
      "text/html": [
       "<div>\n",
       "<style scoped>\n",
       "    .dataframe tbody tr th:only-of-type {\n",
       "        vertical-align: middle;\n",
       "    }\n",
       "\n",
       "    .dataframe tbody tr th {\n",
       "        vertical-align: top;\n",
       "    }\n",
       "\n",
       "    .dataframe thead th {\n",
       "        text-align: right;\n",
       "    }\n",
       "</style>\n",
       "<table border=\"1\" class=\"dataframe\">\n",
       "  <thead>\n",
       "    <tr style=\"text-align: right;\">\n",
       "      <th></th>\n",
       "      <th>auth_ts</th>\n",
       "      <th>uid</th>\n",
       "    </tr>\n",
       "  </thead>\n",
       "  <tbody>\n",
       "    <tr>\n",
       "      <th>0</th>\n",
       "      <td>911382223</td>\n",
       "      <td>1</td>\n",
       "    </tr>\n",
       "    <tr>\n",
       "      <th>1</th>\n",
       "      <td>932683089</td>\n",
       "      <td>2</td>\n",
       "    </tr>\n",
       "    <tr>\n",
       "      <th>2</th>\n",
       "      <td>932921206</td>\n",
       "      <td>2</td>\n",
       "    </tr>\n",
       "    <tr>\n",
       "      <th>3</th>\n",
       "      <td>933393015</td>\n",
       "      <td>2</td>\n",
       "    </tr>\n",
       "    <tr>\n",
       "      <th>4</th>\n",
       "      <td>933875379</td>\n",
       "      <td>2</td>\n",
       "    </tr>\n",
       "  </tbody>\n",
       "</table>\n",
       "</div>"
      ],
      "text/plain": [
       "     auth_ts  uid\n",
       "0  911382223    1\n",
       "1  932683089    2\n",
       "2  932921206    2\n",
       "3  933393015    2\n",
       "4  933875379    2"
      ]
     },
     "execution_count": 8,
     "metadata": {},
     "output_type": "execute_result"
    }
   ],
   "source": [
    "auth_data_df.head()"
   ]
  },
  {
   "cell_type": "code",
   "execution_count": 9,
   "metadata": {},
   "outputs": [],
   "source": [
    "# Преобразование типов данных (reg_ts и auth_ts)\n",
    "reg_data_df['reg_ts'] = reg_data_df['reg_ts'].astype(int)\n",
    "auth_data_df['auth_ts'] = auth_data_df['auth_ts'].astype(int)\n",
    "reg_data_df['reg_date'] = pd.to_datetime(reg_data_df['reg_ts'], unit='s')\n",
    "auth_data_df['auth_date'] = pd.to_datetime(auth_data_df['auth_ts'], unit='s')\n",
    "reg_data_df.drop(columns=['reg_ts'], inplace=True)\n",
    "auth_data_df.drop(columns=['auth_ts'], inplace=True)"
   ]
  },
  {
   "cell_type": "code",
   "execution_count": 10,
   "metadata": {},
   "outputs": [
    {
     "data": {
      "text/html": [
       "<div>\n",
       "<style scoped>\n",
       "    .dataframe tbody tr th:only-of-type {\n",
       "        vertical-align: middle;\n",
       "    }\n",
       "\n",
       "    .dataframe tbody tr th {\n",
       "        vertical-align: top;\n",
       "    }\n",
       "\n",
       "    .dataframe thead th {\n",
       "        text-align: right;\n",
       "    }\n",
       "</style>\n",
       "<table border=\"1\" class=\"dataframe\">\n",
       "  <thead>\n",
       "    <tr style=\"text-align: right;\">\n",
       "      <th></th>\n",
       "      <th>uid</th>\n",
       "      <th>reg_date</th>\n",
       "    </tr>\n",
       "  </thead>\n",
       "  <tbody>\n",
       "    <tr>\n",
       "      <th>0</th>\n",
       "      <td>1</td>\n",
       "      <td>1998-11-18 09:43:43</td>\n",
       "    </tr>\n",
       "    <tr>\n",
       "      <th>1</th>\n",
       "      <td>2</td>\n",
       "      <td>1999-07-22 22:38:09</td>\n",
       "    </tr>\n",
       "    <tr>\n",
       "      <th>2</th>\n",
       "      <td>3</td>\n",
       "      <td>2000-01-13 22:27:27</td>\n",
       "    </tr>\n",
       "    <tr>\n",
       "      <th>3</th>\n",
       "      <td>4</td>\n",
       "      <td>2000-05-28 14:19:01</td>\n",
       "    </tr>\n",
       "    <tr>\n",
       "      <th>4</th>\n",
       "      <td>5</td>\n",
       "      <td>2000-09-16 11:21:53</td>\n",
       "    </tr>\n",
       "  </tbody>\n",
       "</table>\n",
       "</div>"
      ],
      "text/plain": [
       "   uid            reg_date\n",
       "0    1 1998-11-18 09:43:43\n",
       "1    2 1999-07-22 22:38:09\n",
       "2    3 2000-01-13 22:27:27\n",
       "3    4 2000-05-28 14:19:01\n",
       "4    5 2000-09-16 11:21:53"
      ]
     },
     "execution_count": 10,
     "metadata": {},
     "output_type": "execute_result"
    }
   ],
   "source": [
    "reg_data_df.head()"
   ]
  },
  {
   "cell_type": "code",
   "execution_count": 11,
   "metadata": {},
   "outputs": [
    {
     "data": {
      "text/html": [
       "<div>\n",
       "<style scoped>\n",
       "    .dataframe tbody tr th:only-of-type {\n",
       "        vertical-align: middle;\n",
       "    }\n",
       "\n",
       "    .dataframe tbody tr th {\n",
       "        vertical-align: top;\n",
       "    }\n",
       "\n",
       "    .dataframe thead th {\n",
       "        text-align: right;\n",
       "    }\n",
       "</style>\n",
       "<table border=\"1\" class=\"dataframe\">\n",
       "  <thead>\n",
       "    <tr style=\"text-align: right;\">\n",
       "      <th></th>\n",
       "      <th>uid</th>\n",
       "      <th>auth_date</th>\n",
       "    </tr>\n",
       "  </thead>\n",
       "  <tbody>\n",
       "    <tr>\n",
       "      <th>0</th>\n",
       "      <td>1</td>\n",
       "      <td>1998-11-18 09:43:43</td>\n",
       "    </tr>\n",
       "    <tr>\n",
       "      <th>1</th>\n",
       "      <td>2</td>\n",
       "      <td>1999-07-22 22:38:09</td>\n",
       "    </tr>\n",
       "    <tr>\n",
       "      <th>2</th>\n",
       "      <td>2</td>\n",
       "      <td>1999-07-25 16:46:46</td>\n",
       "    </tr>\n",
       "    <tr>\n",
       "      <th>3</th>\n",
       "      <td>2</td>\n",
       "      <td>1999-07-31 03:50:15</td>\n",
       "    </tr>\n",
       "    <tr>\n",
       "      <th>4</th>\n",
       "      <td>2</td>\n",
       "      <td>1999-08-05 17:49:39</td>\n",
       "    </tr>\n",
       "  </tbody>\n",
       "</table>\n",
       "</div>"
      ],
      "text/plain": [
       "   uid           auth_date\n",
       "0    1 1998-11-18 09:43:43\n",
       "1    2 1999-07-22 22:38:09\n",
       "2    2 1999-07-25 16:46:46\n",
       "3    2 1999-07-31 03:50:15\n",
       "4    2 1999-08-05 17:49:39"
      ]
     },
     "execution_count": 11,
     "metadata": {},
     "output_type": "execute_result"
    }
   ],
   "source": [
    "auth_data_df.head()"
   ]
  },
  {
   "cell_type": "code",
   "execution_count": 12,
   "metadata": {},
   "outputs": [],
   "source": [
    "# Объединение данных \n",
    "merged_data = reg_data_df.merge(auth_data_df, on='uid', how='left')\n",
    "\n",
    "# Расчёт дней с момента регистрации\n",
    "merged_data['days_since_reg'] = (merged_data['auth_date'] - merged_data['reg_date']).dt.days"
   ]
  },
  {
   "cell_type": "code",
   "execution_count": 13,
   "metadata": {},
   "outputs": [
    {
     "data": {
      "text/html": [
       "<div>\n",
       "<style scoped>\n",
       "    .dataframe tbody tr th:only-of-type {\n",
       "        vertical-align: middle;\n",
       "    }\n",
       "\n",
       "    .dataframe tbody tr th {\n",
       "        vertical-align: top;\n",
       "    }\n",
       "\n",
       "    .dataframe thead th {\n",
       "        text-align: right;\n",
       "    }\n",
       "</style>\n",
       "<table border=\"1\" class=\"dataframe\">\n",
       "  <thead>\n",
       "    <tr style=\"text-align: right;\">\n",
       "      <th></th>\n",
       "      <th>uid</th>\n",
       "      <th>reg_date</th>\n",
       "      <th>auth_date</th>\n",
       "      <th>days_since_reg</th>\n",
       "    </tr>\n",
       "  </thead>\n",
       "  <tbody>\n",
       "    <tr>\n",
       "      <th>0</th>\n",
       "      <td>1</td>\n",
       "      <td>1998-11-18 09:43:43</td>\n",
       "      <td>1998-11-18 09:43:43</td>\n",
       "      <td>0</td>\n",
       "    </tr>\n",
       "    <tr>\n",
       "      <th>1</th>\n",
       "      <td>2</td>\n",
       "      <td>1999-07-22 22:38:09</td>\n",
       "      <td>1999-07-22 22:38:09</td>\n",
       "      <td>0</td>\n",
       "    </tr>\n",
       "    <tr>\n",
       "      <th>2</th>\n",
       "      <td>2</td>\n",
       "      <td>1999-07-22 22:38:09</td>\n",
       "      <td>1999-07-25 16:46:46</td>\n",
       "      <td>2</td>\n",
       "    </tr>\n",
       "    <tr>\n",
       "      <th>3</th>\n",
       "      <td>2</td>\n",
       "      <td>1999-07-22 22:38:09</td>\n",
       "      <td>1999-07-31 03:50:15</td>\n",
       "      <td>8</td>\n",
       "    </tr>\n",
       "    <tr>\n",
       "      <th>4</th>\n",
       "      <td>2</td>\n",
       "      <td>1999-07-22 22:38:09</td>\n",
       "      <td>1999-08-05 17:49:39</td>\n",
       "      <td>13</td>\n",
       "    </tr>\n",
       "    <tr>\n",
       "      <th>5</th>\n",
       "      <td>2</td>\n",
       "      <td>1999-07-22 22:38:09</td>\n",
       "      <td>1999-08-11 11:56:55</td>\n",
       "      <td>19</td>\n",
       "    </tr>\n",
       "    <tr>\n",
       "      <th>6</th>\n",
       "      <td>2</td>\n",
       "      <td>1999-07-22 22:38:09</td>\n",
       "      <td>1999-08-14 20:30:33</td>\n",
       "      <td>22</td>\n",
       "    </tr>\n",
       "    <tr>\n",
       "      <th>7</th>\n",
       "      <td>2</td>\n",
       "      <td>1999-07-22 22:38:09</td>\n",
       "      <td>1999-08-18 18:56:26</td>\n",
       "      <td>26</td>\n",
       "    </tr>\n",
       "    <tr>\n",
       "      <th>8</th>\n",
       "      <td>2</td>\n",
       "      <td>1999-07-22 22:38:09</td>\n",
       "      <td>1999-08-20 09:27:12</td>\n",
       "      <td>28</td>\n",
       "    </tr>\n",
       "    <tr>\n",
       "      <th>9</th>\n",
       "      <td>2</td>\n",
       "      <td>1999-07-22 22:38:09</td>\n",
       "      <td>1999-08-26 15:52:32</td>\n",
       "      <td>34</td>\n",
       "    </tr>\n",
       "  </tbody>\n",
       "</table>\n",
       "</div>"
      ],
      "text/plain": [
       "   uid            reg_date           auth_date  days_since_reg\n",
       "0    1 1998-11-18 09:43:43 1998-11-18 09:43:43               0\n",
       "1    2 1999-07-22 22:38:09 1999-07-22 22:38:09               0\n",
       "2    2 1999-07-22 22:38:09 1999-07-25 16:46:46               2\n",
       "3    2 1999-07-22 22:38:09 1999-07-31 03:50:15               8\n",
       "4    2 1999-07-22 22:38:09 1999-08-05 17:49:39              13\n",
       "5    2 1999-07-22 22:38:09 1999-08-11 11:56:55              19\n",
       "6    2 1999-07-22 22:38:09 1999-08-14 20:30:33              22\n",
       "7    2 1999-07-22 22:38:09 1999-08-18 18:56:26              26\n",
       "8    2 1999-07-22 22:38:09 1999-08-20 09:27:12              28\n",
       "9    2 1999-07-22 22:38:09 1999-08-26 15:52:32              34"
      ]
     },
     "execution_count": 13,
     "metadata": {},
     "output_type": "execute_result"
    }
   ],
   "source": [
    "merged_data.head(10)"
   ]
  },
  {
   "cell_type": "code",
   "execution_count": 14,
   "metadata": {},
   "outputs": [],
   "source": [
    "merged_data_sort = merged_data.sort_values(by='days_since_reg', ascending=False)"
   ]
  },
  {
   "cell_type": "code",
   "execution_count": 15,
   "metadata": {},
   "outputs": [
    {
     "name": "stdout",
     "output_type": "stream",
     "text": [
      "            uid            reg_date           auth_date  days_since_reg\n",
      "1929          2 1999-07-22 22:38:09 2020-09-18 11:24:29            7728\n",
      "1928          2 1999-07-22 22:38:09 2020-09-16 04:27:12            7726\n",
      "1927          2 1999-07-22 22:38:09 2020-09-10 10:10:21            7720\n",
      "1926          2 1999-07-22 22:38:09 2020-09-09 09:06:39            7719\n",
      "1925          2 1999-07-22 22:38:09 2020-09-05 15:18:24            7715\n",
      "...         ...                 ...                 ...             ...\n",
      "9096850  899720 2020-05-18 14:16:04 2020-05-20 05:47:51               1\n",
      "3473360  157919 2017-06-25 14:50:18 2017-06-27 12:56:40               1\n",
      "7128703  509161 2019-06-07 17:01:11 2019-06-08 19:56:07               1\n",
      "7452159  555447 2019-07-30 13:06:35 2019-08-01 04:00:01               1\n",
      "8582188  765340 2020-02-10 05:35:04 2020-02-11 14:10:50               1\n",
      "\n",
      "[8601013 rows x 4 columns]\n"
     ]
    }
   ],
   "source": [
    "filtered_data = merged_data_sort.query('days_since_reg > 0')\n",
    "print(filtered_data)"
   ]
  },
  {
   "cell_type": "markdown",
   "metadata": {},
   "source": [
    "                             Функция построения тепловой кагорты Retention Rate (RR) по дням "
   ]
  },
  {
   "cell_type": "code",
   "execution_count": 16,
   "metadata": {},
   "outputs": [
    {
     "name": "stdout",
     "output_type": "stream",
     "text": [
      "Минимальная дата регистрации: 18-11-1998\n",
      "Максимальная дата авторизации: 23-09-2020\n",
      "Введите начальную дату (DD-MM-YYYY): 09-09-2020\n",
      "Напишите число дней для расчёта Retention: 30\n"
     ]
    },
    {
     "data": {
      "image/png": "[encoded data removed]",
      "text/plain": [
       "<Figure size 1440x864 with 3 Axes>"
      ]
     },
     "metadata": {},
     "output_type": "display_data"
    }
   ],
   "source": [
    "def retention_with_visual():\n",
    "    \"\"\"\n",
    "    Функция для расчета и визуализации RR игроков по дням от даты регистрации.\n",
    "    Пользователь вводит:\n",
    "        1) Начальную дату (в формате DD-MM-YYYY)\n",
    "        2) Количество дней для анализа retention.\n",
    "    Результатом функции является тепловая карта когортного анализа.\n",
    "    \"\"\"\n",
    "\n",
    "    # Загрузка данных\n",
    "    reg_data_df = pd.read_csv(\"../shared/problem1-reg_data.csv\", sep=\";\")\n",
    "    auth_data_df = pd.read_csv(\"../shared/problem1-auth_data.csv\", sep=\";\")\n",
    "\n",
    "    # Преобразование данных\n",
    "    reg_data_df['reg_ts'] = reg_data_df['reg_ts'].astype(int)\n",
    "    auth_data_df['auth_ts'] = auth_data_df['auth_ts'].astype(int)\n",
    "    reg_data_df['registration_date'] = pd.to_datetime(reg_data_df['reg_ts'], unit='s').dt.floor('D')\n",
    "    auth_data_df['authorization_date'] = pd.to_datetime(auth_data_df['auth_ts'], unit='s').dt.floor('D')\n",
    "\n",
    "    # Определение минимальной и максимальной даты\n",
    "    min_reg_date = reg_data_df['registration_date'].min().strftime('%d-%m-%Y')\n",
    "    max_auth_date = auth_data_df['authorization_date'].max().strftime('%d-%m-%Y')\n",
    "\n",
    "    print(f\"Минимальная дата регистрации: {min_reg_date}\")\n",
    "    print(f\"Максимальная дата авторизации: {max_auth_date}\")\n",
    "\n",
    "    # Запрос начальной даты в формате DD-MM-YYYY\n",
    "    while True:\n",
    "        start_date_input = input(\"Введите начальную дату (DD-MM-YYYY): \").strip()\n",
    "        try:\n",
    "            start_date = datetime.strptime(start_date_input, \"%d-%m-%Y\")  # Преобразуем в формат даты\n",
    "            if start_date < reg_data_df['registration_date'].min() or start_date > auth_data_df['authorization_date'].max():\n",
    "                print(f\"Ошибка: дата должна быть в диапазоне [{min_reg_date}, {max_auth_date}]\")\n",
    "            else:\n",
    "                break  # Выходим из цикла при корректном вводе\n",
    "        except ValueError:\n",
    "            print(\"Ошибка: введите дату в формате DD-MM-YYYY\")\n",
    "\n",
    "    # Запрос количества дней для анализа retention\n",
    "    while True:\n",
    "        try:\n",
    "            retention_days = int(input(\"Напишите число дней для расчёта Retention: \").strip())\n",
    "            if retention_days <= 0:\n",
    "                print(\"Ошибка: число должно быть больше 0\")\n",
    "            else:\n",
    "                break\n",
    "        except ValueError:\n",
    "            print(\"Ошибка: введите только целое число\")\n",
    "\n",
    "    # Определение временного диапазона\n",
    "    end_date = start_date + timedelta(days=retention_days)\n",
    "\n",
    "    # Фильтрация данных\n",
    "    reg_data_filtered = reg_data_df.query('registration_date >= @start_date')\n",
    "    auth_data_filtered = auth_data_df.query('authorization_date <= @end_date')\n",
    "\n",
    "    # Проверка наличия данных после фильтрации\n",
    "    if reg_data_filtered.empty or auth_data_filtered.empty:\n",
    "        print(\"Ошибка: нет данных для выбранного периода. Попробуйте другой временной диапазон.\")\n",
    "        return\n",
    "\n",
    "    # Объединение отфильтрованных данных\n",
    "    reg_auth_data = reg_data_filtered.merge(auth_data_filtered, on='uid', how='left')\n",
    "\n",
    "    # Проверка наличия данных после объединения\n",
    "    if reg_auth_data.empty:\n",
    "        print(\"Ошибка: нет совпадений между регистрацией и авторизациями. Попробуйте другой временной диапазон.\")\n",
    "        return\n",
    "\n",
    "    # Группировка данных по датам регистрации и авторизации\n",
    "    df_cohort = reg_auth_data.groupby(['registration_date', 'authorization_date'], as_index=False).agg(users=('uid', 'nunique'))\n",
    "\n",
    "    # Проверка наличия данных после группировки\n",
    "    if df_cohort.empty:\n",
    "        print(\"Ошибка: нет данных для группировки. Попробуйте другой временной диапазон.\")\n",
    "        return\n",
    "\n",
    "    # Расчет разницы между регистрацией и авторизацией в днях\n",
    "    df_cohort['days_since_reg'] = (df_cohort['authorization_date'] - df_cohort['registration_date']).dt.days\n",
    "\n",
    "    # Создаем сводную таблицу для когортного анализа\n",
    "    cohort_pivot = df_cohort.pivot_table(index='registration_date', columns='days_since_reg', values='users')\n",
    "\n",
    "    # Проверка наличия данных в сводной таблице\n",
    "    if cohort_pivot.empty:\n",
    "        print(\"Ошибка: невозможно создать сводную таблицу. Попробуйте другой временной диапазон.\")\n",
    "        return\n",
    "\n",
    "    # Рассчитываем размеры когорт (первый столбец сводной таблицы)\n",
    "    if len(cohort_pivot.columns) == 0:\n",
    "        print(\"Ошибка: нет данных для расчета retention. Попробуйте другой временной диапазон.\")\n",
    "        return\n",
    "\n",
    "    cohort_size = cohort_pivot.iloc[:, 0]\n",
    "\n",
    "    # Вычисляем коэффициенты удержания, деля на размер когорты\n",
    "    retention_matrix = cohort_pivot.divide(cohort_size, axis=0)\n",
    "\n",
    "    # Убираем нулевой день для лучшей визуализации\n",
    "    retention_matrix = retention_matrix.drop(columns=[0], errors='ignore')\n",
    "\n",
    "    # Строим тепловую карту когортного анализа\n",
    "    with sns.axes_style('white'):\n",
    "        fig, ax = plt.subplots(1, 2, figsize=(20, 12), sharey=True, gridspec_kw={'width_ratios': [1, 30]})\n",
    "\n",
    "        # Тепловая карта для коэффициентов удержания\n",
    "        sns.heatmap(\n",
    "            retention_matrix,\n",
    "            mask=retention_matrix.isnull(),\n",
    "            annot=True,\n",
    "            fmt='.0%',\n",
    "            cmap='RdYlGn',\n",
    "            vmin=0.0,\n",
    "            vmax=retention_matrix.max().max(),\n",
    "            ax=ax[1]\n",
    "        )\n",
    "        ax[1].set_title('Daily Retention', fontsize=16)\n",
    "        ax[1].set(xlabel='Дни после регистрации', ylabel='Когорта')\n",
    "        ax[1].tick_params(axis='x', labelsize=10)\n",
    "        ax[1].tick_params(axis='y', labelsize=10)\n",
    "\n",
    "        # Тепловая карта для размеров когорт\n",
    "        cohort_size_df = pd.DataFrame(cohort_size).rename(columns={0: 'Размер когорты'})\n",
    "        white_cmap = mcolors.ListedColormap(['white'])\n",
    "        sns.heatmap(\n",
    "            cohort_size_df,\n",
    "            annot=True,\n",
    "            cbar=False,\n",
    "            fmt='g',\n",
    "            cmap=white_cmap,\n",
    "            ax=ax[0]\n",
    "        )\n",
    "        ax[0].set_ylabel(\"Дата регистрации\", fontsize=12)\n",
    "        ax[0].set_yticklabels(retention_matrix.index.strftime('%Y-%m-%d'), fontsize=10)\n",
    "\n",
    "        fig.tight_layout()\n",
    "        plt.show()\n",
    "\n",
    "\n",
    "# Пример использования функции\n",
    "retention_with_visual()"
   ]
  },
  {
   "cell_type": "markdown",
   "metadata": {},
   "source": [
    "\n"
   ]
  },
  {
   "cell_type": "markdown",
   "metadata": {},
   "source": [
    "\n"
   ]
  },
  {
   "cell_type": "markdown",
   "metadata": {},
   "source": [
    "                                                    # Задание 2\n",
    "    Имеются результаты A/B теста, в котором двум группам пользователей предлагались различные наборы акционных предложений.\n",
    "    Известно, что ARPU в тестовой группе выше на 5%, чем в контрольной. При этом в контрольной группе 1928 игроков из 202103 оказались платящими, а в тестовой – 1805 из 202667.\n",
    "    Какой набор предложений можно считать лучшим? \n",
    "    Какие метрики стоит проанализировать для принятия правильного решения и как? "
   ]
  },
  {
   "cell_type": "code",
   "execution_count": 17,
   "metadata": {},
   "outputs": [],
   "source": [
    "df = pd.read_csv(\"../My_folder/_FINAL project/Проект_1_Задание_2.csv\", sep=\";\")"
   ]
  },
  {
   "cell_type": "code",
   "execution_count": 18,
   "metadata": {},
   "outputs": [
    {
     "data": {
      "text/html": [
       "<div>\n",
       "<style scoped>\n",
       "    .dataframe tbody tr th:only-of-type {\n",
       "        vertical-align: middle;\n",
       "    }\n",
       "\n",
       "    .dataframe tbody tr th {\n",
       "        vertical-align: top;\n",
       "    }\n",
       "\n",
       "    .dataframe thead th {\n",
       "        text-align: right;\n",
       "    }\n",
       "</style>\n",
       "<table border=\"1\" class=\"dataframe\">\n",
       "  <thead>\n",
       "    <tr style=\"text-align: right;\">\n",
       "      <th></th>\n",
       "      <th>user_id</th>\n",
       "      <th>revenue</th>\n",
       "      <th>testgroup</th>\n",
       "    </tr>\n",
       "  </thead>\n",
       "  <tbody>\n",
       "    <tr>\n",
       "      <th>0</th>\n",
       "      <td>1</td>\n",
       "      <td>0</td>\n",
       "      <td>b</td>\n",
       "    </tr>\n",
       "    <tr>\n",
       "      <th>1</th>\n",
       "      <td>2</td>\n",
       "      <td>0</td>\n",
       "      <td>a</td>\n",
       "    </tr>\n",
       "    <tr>\n",
       "      <th>2</th>\n",
       "      <td>3</td>\n",
       "      <td>0</td>\n",
       "      <td>a</td>\n",
       "    </tr>\n",
       "    <tr>\n",
       "      <th>3</th>\n",
       "      <td>4</td>\n",
       "      <td>0</td>\n",
       "      <td>b</td>\n",
       "    </tr>\n",
       "    <tr>\n",
       "      <th>4</th>\n",
       "      <td>5</td>\n",
       "      <td>0</td>\n",
       "      <td>b</td>\n",
       "    </tr>\n",
       "    <tr>\n",
       "      <th>5</th>\n",
       "      <td>6</td>\n",
       "      <td>0</td>\n",
       "      <td>b</td>\n",
       "    </tr>\n",
       "    <tr>\n",
       "      <th>6</th>\n",
       "      <td>7</td>\n",
       "      <td>0</td>\n",
       "      <td>b</td>\n",
       "    </tr>\n",
       "    <tr>\n",
       "      <th>7</th>\n",
       "      <td>8</td>\n",
       "      <td>0</td>\n",
       "      <td>b</td>\n",
       "    </tr>\n",
       "    <tr>\n",
       "      <th>8</th>\n",
       "      <td>9</td>\n",
       "      <td>0</td>\n",
       "      <td>b</td>\n",
       "    </tr>\n",
       "    <tr>\n",
       "      <th>9</th>\n",
       "      <td>10</td>\n",
       "      <td>0</td>\n",
       "      <td>a</td>\n",
       "    </tr>\n",
       "    <tr>\n",
       "      <th>10</th>\n",
       "      <td>11</td>\n",
       "      <td>0</td>\n",
       "      <td>a</td>\n",
       "    </tr>\n",
       "    <tr>\n",
       "      <th>11</th>\n",
       "      <td>12</td>\n",
       "      <td>0</td>\n",
       "      <td>a</td>\n",
       "    </tr>\n",
       "    <tr>\n",
       "      <th>12</th>\n",
       "      <td>13</td>\n",
       "      <td>0</td>\n",
       "      <td>a</td>\n",
       "    </tr>\n",
       "    <tr>\n",
       "      <th>13</th>\n",
       "      <td>14</td>\n",
       "      <td>0</td>\n",
       "      <td>b</td>\n",
       "    </tr>\n",
       "    <tr>\n",
       "      <th>14</th>\n",
       "      <td>15</td>\n",
       "      <td>0</td>\n",
       "      <td>a</td>\n",
       "    </tr>\n",
       "  </tbody>\n",
       "</table>\n",
       "</div>"
      ],
      "text/plain": [
       "    user_id  revenue testgroup\n",
       "0         1        0         b\n",
       "1         2        0         a\n",
       "2         3        0         a\n",
       "3         4        0         b\n",
       "4         5        0         b\n",
       "5         6        0         b\n",
       "6         7        0         b\n",
       "7         8        0         b\n",
       "8         9        0         b\n",
       "9        10        0         a\n",
       "10       11        0         a\n",
       "11       12        0         a\n",
       "12       13        0         a\n",
       "13       14        0         b\n",
       "14       15        0         a"
      ]
     },
     "execution_count": 18,
     "metadata": {},
     "output_type": "execute_result"
    }
   ],
   "source": [
    "df.head(15)"
   ]
  },
  {
   "cell_type": "code",
   "execution_count": 19,
   "metadata": {},
   "outputs": [
    {
     "data": {
      "text/html": [
       "<div>\n",
       "<style scoped>\n",
       "    .dataframe tbody tr th:only-of-type {\n",
       "        vertical-align: middle;\n",
       "    }\n",
       "\n",
       "    .dataframe tbody tr th {\n",
       "        vertical-align: top;\n",
       "    }\n",
       "\n",
       "    .dataframe thead th {\n",
       "        text-align: right;\n",
       "    }\n",
       "</style>\n",
       "<table border=\"1\" class=\"dataframe\">\n",
       "  <thead>\n",
       "    <tr style=\"text-align: right;\">\n",
       "      <th></th>\n",
       "      <th>user_id</th>\n",
       "      <th>revenue</th>\n",
       "      <th>testgroup</th>\n",
       "    </tr>\n",
       "  </thead>\n",
       "  <tbody>\n",
       "    <tr>\n",
       "      <th>0</th>\n",
       "      <td>1</td>\n",
       "      <td>0</td>\n",
       "      <td>b</td>\n",
       "    </tr>\n",
       "    <tr>\n",
       "      <th>1</th>\n",
       "      <td>2</td>\n",
       "      <td>0</td>\n",
       "      <td>a</td>\n",
       "    </tr>\n",
       "    <tr>\n",
       "      <th>2</th>\n",
       "      <td>3</td>\n",
       "      <td>0</td>\n",
       "      <td>a</td>\n",
       "    </tr>\n",
       "    <tr>\n",
       "      <th>3</th>\n",
       "      <td>4</td>\n",
       "      <td>0</td>\n",
       "      <td>b</td>\n",
       "    </tr>\n",
       "    <tr>\n",
       "      <th>4</th>\n",
       "      <td>5</td>\n",
       "      <td>0</td>\n",
       "      <td>b</td>\n",
       "    </tr>\n",
       "    <tr>\n",
       "      <th>...</th>\n",
       "      <td>...</td>\n",
       "      <td>...</td>\n",
       "      <td>...</td>\n",
       "    </tr>\n",
       "    <tr>\n",
       "      <th>403994</th>\n",
       "      <td>403995</td>\n",
       "      <td>2793</td>\n",
       "      <td>b</td>\n",
       "    </tr>\n",
       "    <tr>\n",
       "      <th>404161</th>\n",
       "      <td>404162</td>\n",
       "      <td>2316</td>\n",
       "      <td>b</td>\n",
       "    </tr>\n",
       "    <tr>\n",
       "      <th>404193</th>\n",
       "      <td>404194</td>\n",
       "      <td>2998</td>\n",
       "      <td>b</td>\n",
       "    </tr>\n",
       "    <tr>\n",
       "      <th>404525</th>\n",
       "      <td>404526</td>\n",
       "      <td>3120</td>\n",
       "      <td>b</td>\n",
       "    </tr>\n",
       "    <tr>\n",
       "      <th>404543</th>\n",
       "      <td>404544</td>\n",
       "      <td>369</td>\n",
       "      <td>a</td>\n",
       "    </tr>\n",
       "  </tbody>\n",
       "</table>\n",
       "<p>2916 rows × 3 columns</p>\n",
       "</div>"
      ],
      "text/plain": [
       "        user_id  revenue testgroup\n",
       "0             1        0         b\n",
       "1             2        0         a\n",
       "2             3        0         a\n",
       "3             4        0         b\n",
       "4             5        0         b\n",
       "...         ...      ...       ...\n",
       "403994   403995     2793         b\n",
       "404161   404162     2316         b\n",
       "404193   404194     2998         b\n",
       "404525   404526     3120         b\n",
       "404543   404544      369         a\n",
       "\n",
       "[2916 rows x 3 columns]"
      ]
     },
     "execution_count": 19,
     "metadata": {},
     "output_type": "execute_result"
    }
   ],
   "source": [
    "df.groupby('revenue').head()"
   ]
  },
  {
   "cell_type": "code",
   "execution_count": 20,
   "metadata": {},
   "outputs": [
    {
     "data": {
      "text/plain": [
       "dtype('int64')"
      ]
     },
     "execution_count": 20,
     "metadata": {},
     "output_type": "execute_result"
    }
   ],
   "source": [
    "df['revenue'].dtype"
   ]
  },
  {
   "cell_type": "markdown",
   "metadata": {},
   "source": [
    "        ARPU          - средняя выручка с пользователя\n",
    "        ARPPU         - средняя выручка с платящего пользователя\n",
    "        CR            - процент конверсии в платящего игрока/пользователя\n",
    "        Total Revenue - итоговая выручка с каждой из групп"
   ]
  },
  {
   "cell_type": "code",
   "execution_count": 21,
   "metadata": {},
   "outputs": [
    {
     "name": "stdout",
     "output_type": "stream",
     "text": [
      "CR Контрольная группа (A):0.95%\n",
      "CR Тестовая группа (B):0.89\n"
     ]
    }
   ],
   "source": [
    "# Количество пользователей в каждой группе\n",
    "total_users_a = 202103\n",
    "total_users_b = 202667\n",
    "\n",
    "# Количество платящих пользователей\n",
    "paying_users_a = 1928\n",
    "paying_users_b = 1805\n",
    "\n",
    "# CR - процент конверсии в платящего\n",
    "CR_a = (paying_users_a / total_users_a) * 100\n",
    "CR_b = (paying_users_b / total_users_b) * 100\n",
    "\n",
    "print(f\"CR Контрольная группа (A):{CR_a:.2}%\")\n",
    "print(f\"CR Тестовая группа (B):{CR_b:.2f}\")"
   ]
  },
  {
   "cell_type": "code",
   "execution_count": 22,
   "metadata": {},
   "outputs": [
    {
     "name": "stdout",
     "output_type": "stream",
     "text": [
      "Total Revenue Контрольная группа (A): 5136189\n",
      "Total Revenue Тестовая группа (B): 5421603\n"
     ]
    }
   ],
   "source": [
    "# Рассчитываем Total Revenue для групп A и B\n",
    "total_revenue_a = df[df['testgroup'] == 'a']['revenue'].sum()\n",
    "total_revenue_b = df[df['testgroup'] == 'b']['revenue'].sum()\n",
    "\n",
    "# Вывод результатов\n",
    "print(f\"Total Revenue Контрольная группа (A): {total_revenue_a}\")\n",
    "print(f\"Total Revenue Тестовая группа (B): {total_revenue_b}\")"
   ]
  },
  {
   "cell_type": "code",
   "execution_count": 23,
   "metadata": {},
   "outputs": [
    {
     "name": "stdout",
     "output_type": "stream",
     "text": [
      "ARPU Контрольная группа (A): 25.41\n",
      "ARPU Тестовая группа (B): 26.75\n"
     ]
    }
   ],
   "source": [
    "ARPU_a = total_revenue_a / total_users_a\n",
    "ARPU_b = total_revenue_b / total_users_b\n",
    "\n",
    "print(f\"ARPU Контрольная группа (A): {ARPU_a:.2f}\")\n",
    "print(f\"ARPU Тестовая группа (B): {ARPU_b:.2f}\")"
   ]
  },
  {
   "cell_type": "code",
   "execution_count": 24,
   "metadata": {},
   "outputs": [
    {
     "name": "stdout",
     "output_type": "stream",
     "text": [
      "ARPPU Контрольная группа (A): 2663.998\n",
      "ARPPU Тестовая группа (B): 3003.658\n"
     ]
    }
   ],
   "source": [
    "# Выручка только платящих пользователей\n",
    "revenue_a_nonzero = df[(df['testgroup'] == 'a') & (df['revenue'] > 0)]['revenue']\n",
    "revenue_b_nonzero = df[(df['testgroup'] == 'b') & (df['revenue'] > 0)]['revenue']\n",
    "\n",
    "ARPPU_a = revenue_a_nonzero.mean().round(3)\n",
    "ARPPU_b = revenue_b_nonzero.mean().round(3)\n",
    "\n",
    "# Вывод результатов\n",
    "print(f\"ARPPU Контрольная группа (A): {ARPPU_a}\")\n",
    "print(f\"ARPPU Тестовая группа (B): {ARPPU_b}\")"
   ]
  },
  {
   "cell_type": "code",
   "execution_count": 25,
   "metadata": {},
   "outputs": [
    {
     "data": {
      "text/plain": [
       "285414"
      ]
     },
     "execution_count": 25,
     "metadata": {},
     "output_type": "execute_result"
    }
   ],
   "source": [
    "# Разница дохода:\n",
    "total_revenue_b - total_revenue_a"
   ]
  },
  {
   "cell_type": "code",
   "execution_count": 26,
   "metadata": {},
   "outputs": [
    {
     "data": {
      "text/plain": [
       "1.05"
      ]
     },
     "execution_count": 26,
     "metadata": {},
     "output_type": "execute_result"
    }
   ],
   "source": [
    "# Проверка о 5%\n",
    "ARPU_a = total_revenue_a / total_users_a\n",
    "ARPU_b = total_revenue_b / total_users_b\n",
    "round(ARPU_b / ARPU_a, 2)"
   ]
  },
  {
   "cell_type": "markdown",
   "metadata": {},
   "source": [
    "                                            Проверка гипотез"
   ]
  },
  {
   "cell_type": "markdown",
   "metadata": {},
   "source": [
    "            Гипотезы для ARPU:\n",
    "Гипотеза H0: Между группами нет статистически значимых различий в средней выручке на пользователя (ARPU).\n",
    "\n",
    "Гипотеза H1: Средняя выручка на пользователя (ARPU) в тестовой группе отличается от контрольной группы."
   ]
  },
  {
   "cell_type": "code",
   "execution_count": 32,
   "metadata": {},
   "outputs": [
    {
     "name": "stdout",
     "output_type": "stream",
     "text": [
      "T-statistic: nan\n",
      "P-value: nan\n",
      "Не можем отклонить нулевую гипотезу (H0): Между группами нетстатистически значимых различий в средней выручке на пользователя (ARPU).\n"
     ]
    }
   ],
   "source": [
    "# Проверяем статзначимость различия ARPU через t-тест\n",
    "t_stat, p_value = ttest_ind(total_revenue_a, total_revenue_b, equal_var=False)  # Используем T-критерий Уэлча\n",
    "\n",
    "print(f\"T-statistic: {t_stat}\")\n",
    "print(f\"P-value: {p_value}\")\n",
    "\n",
    "if p_value < 0.05:\n",
    "    print(\"Отклоняем нулевую гипотезу (H0): Средняя выручка на пользователя (ARPU) \" \n",
    "          \"в тестовой группе отличается от контрольной группы и статистически значима.\")\n",
    "else:\n",
    "    print(\"Не можем отклонить нулевую гипотезу (H0): Между группами нет\"\n",
    "          \"статистически значимых различий в средней выручке на пользователя (ARPU).\")"
   ]
  },
  {
   "cell_type": "markdown",
   "metadata": {},
   "source": [
    "            Гипотезы для ARPPU:\n",
    "Гипотеза H0: Между группами нет статистически значимых различий в ARPPU.\n",
    "\n",
    "Гипотеза H1: ARPPU в тестовой группе отличается от контрольной группы и статистически значима."
   ]
  },
  {
   "cell_type": "code",
   "execution_count": 28,
   "metadata": {},
   "outputs": [
    {
     "name": "stdout",
     "output_type": "stream",
     "text": [
      "T-statistic ARPPU: -1.6446302664300838\n",
      "P-value ARPPU: 0.10020780398916015\n",
      "Не можем отклонить нулевую гипотезу: Между группами нетстатистически значимых различий в ARPPU.\n"
     ]
    }
   ],
   "source": [
    "# Проверка статистической значимости различия ARPPU через t-тест\n",
    "t_stat_arppu, p_value_arppu = ttest_ind(revenue_a_nonzero, revenue_b_nonzero, equal_var=False)  # Welch's t-test\n",
    "\n",
    "print(f\"T-statistic ARPPU: {t_stat_arppu}\")\n",
    "print(f\"P-value ARPPU: {p_value_arppu}\")\n",
    "\n",
    "if p_value_arppu < 0.05:\n",
    "    print(\"Отклоняем нулевую гипотезу: ARPPU в тестовой группе отличается от контрольной группы\"\n",
    "          \"и статистически значима.\")\n",
    "else:\n",
    "    print(\"Не можем отклонить нулевую гипотезу: Между группами нет\"\n",
    "          \"статистически значимых различий в ARPPU.\")"
   ]
  },
  {
   "cell_type": "markdown",
   "metadata": {},
   "source": [
    "            Гипотезы для конверсии (CR):\n",
    "Гипотеза H0: Между группами нет статистически значимых различий в конверсии в платящих пользователей.\n",
    "\n",
    "Гипотеза H1: Конверсия в платящих пользователей в тестовой группе отличается от контрольной группы и статистически значима."
   ]
  },
  {
   "cell_type": "code",
   "execution_count": 29,
   "metadata": {},
   "outputs": [
    {
     "name": "stdout",
     "output_type": "stream",
     "text": [
      "Z-statistic: 2.108028495889841\n",
      "P-value: 0.035028524642854865\n",
      "Отклоняем нулевую гипотезу (H0): Конверсия в платящих пользователейв тестовой группе отличается от контрольной группы.\n"
     ]
    }
   ],
   "source": [
    "# Проверка статзначимости CR через z-тест\n",
    "successes = [paying_users_a, paying_users_b]\n",
    "nobs = [total_users_a, total_users_b]\n",
    "\n",
    "z_stat, p_value = proportions_ztest(successes, nobs)\n",
    "\n",
    "print(f\"Z-statistic: {z_stat}\")\n",
    "print(f\"P-value: {p_value}\")\n",
    "\n",
    "if p_value < 0.05:\n",
    "    print(\"Отклоняем нулевую гипотезу (H0): Конверсия в платящих пользователей\"\n",
    "          \"в тестовой группе отличается от контрольной группы.\")\n",
    "else:\n",
    "    print(\"Не можем отклонить нулевую гипотезу (H0): Между группами нет\"\n",
    "          \"статистически значимых различий в конверсии в платящих пользователей.\")"
   ]
  },
  {
   "cell_type": "markdown",
   "metadata": {},
   "source": [
    "                                Проверка на наличие нарушения дизайна эксперимента"
   ]
  },
  {
   "cell_type": "markdown",
   "metadata": {},
   "source": [
    "Проверка стат значимоcти различий в распределении выручки среди платящих пользователей"
   ]
  },
  {
   "cell_type": "code",
   "execution_count": 30,
   "metadata": {},
   "outputs": [
    {
     "name": "stdout",
     "output_type": "stream",
     "text": [
      "U-statistic: 222015.0\n",
      "P-value: 0.0\n",
      "Отклоняем нулевую гипотезу (H0): распределения выручки между группами существенно различаются.\n"
     ]
    },
    {
     "data": {
      "image/png": "[encoded data removed]",
      "text/plain": [
       "<Figure size 864x432 with 1 Axes>"
      ]
     },
     "metadata": {
      "needs_background": "light"
     },
     "output_type": "display_data"
    }
   ],
   "source": [
    "# Проверка распределений выручки через тест Манна-Уитни\n",
    "stat, p_value = mannwhitneyu(revenue_a_nonzero, revenue_b_nonzero, alternative='two-sided')\n",
    "\n",
    "print(f\"U-statistic: {stat}\")\n",
    "print(f\"P-value: {p_value}\")\n",
    "\n",
    "if p_value < 0.05:\n",
    "    print(\"Отклоняем нулевую гипотезу (H0): распределения выручки между группами существенно различаются.\")\n",
    "else:\n",
    "    print(\"Не можем отклонить нулевую гипотезу (H0): распределения выручки между группами можно считать одинаковыми.\")\n",
    "    \n",
    "# Визуализация распределений выручки\n",
    "plt.figure(figsize=(12, 6))\n",
    "sns.histplot(revenue_a_nonzero, bins=40, kde=True, label='Группа A', color='red', alpha=0.8)\n",
    "sns.histplot(revenue_b_nonzero, bins=40, kde=True, label='Группа B', color='blue', alpha=1)\n",
    "plt.title('Распределение выручки среди платящих пользователей')\n",
    "plt.xlabel('Выручка')\n",
    "plt.ylabel('Количество пользователей')\n",
    "plt.legend()\n",
    "plt.show()"
   ]
  },
  {
   "cell_type": "markdown",
   "metadata": {},
   "source": [
    "Какой набор предложений можно считать лучшим? Какие метрики стоит проанализировать для принятия правильного решения и как?"
   ]
  },
  {
   "cell_type": "markdown",
   "metadata": {},
   "source": [
    "            ВЫВОДЫ\n",
    "1. Между группами нет статистически значимых различий в средней выручке на пользователя (ARPU). Изменение набора акционных предложений не привело к статистически значимому изменению среднего дохода с пользователя.\n",
    "2. Между группами нет статистически значимых различий в средней выручке на платящего пользователя (ARPPU). Изменение набора акционных предложений не привело к статистически значимому изменению среднего дохода с платящего пользователя.\n",
    "3. Конверсия в платящих пользователей (CR) в тестовой группе отличается от контрольной группы и статистически значима. CR контрольной группы - 0.95%, CR тестовой группы ниже и составляет 0.89%. Значит акционные предложения для тестовой группы менее привлекательны для новых платящих игроков.\n",
    "4. Общий доход (Total Revenue) группы В больше и равна 5421603, в группе А = 5136189 (разница 285414).\n",
    "5. Распределение выручки между группами существенно различаются. Это указывает на возможное нарушение сплитования или же предложенние было нацелено на более платежеспособных пользователей, в следствии чего конверсия ниже (0,89%), а итоговый доход выше.\n",
    "\n",
    "        На вопрос \"Какой набор предложений можно считать лучшим\" на данном эатпе трудно ответить.\n",
    "    1. Потребуется пересмотреть дизайн эксперимента и убедиться в корректности сплитования.\n",
    "    2. Провести анализ LTV (Life-Time Value) - иследовать ценность пользователя в каждой из групп. Возможно акционные предложения тестовой группы приводят к меньшей конверсии, но привлекате больше \"китов\" и к более долгосрочной прибыли за их счёт.\n",
    "    3. Провести RFM-сегментацию и проанализировать как каждый из сегментов реагирует на разные предложения.\n",
    "    4. Провести анализ Retention. Как повлияют тестовые предложения на старых и новых игроков.\n",
    "\n",
    "Если же подтвердится, что сплитование выполненно верно и эксперимент корректный (несмотря на сильные различия в распределении выручки) то:\n",
    "Если цель увеличить Total Revenue, то тестовые предложения (группа B) обеспечивают бОльшую общую выручку.\n",
    "Если цель увеличения конверсии (CR) - предложения контрольной группы (группа A) дают более лучшй результат.\n",
    "Если цель долгосрочная прибыль, то потребуются дополнтельно провести анализ метрик LTV и Retention.\n"
   ]
  },
  {
   "cell_type": "markdown",
   "metadata": {},
   "source": [
    "\n"
   ]
  },
  {
   "cell_type": "markdown",
   "metadata": {},
   "source": [
    "\n"
   ]
  },
  {
   "cell_type": "markdown",
   "metadata": {},
   "source": [
    "                                                    # Задание 3\n",
    "В игре Plants & Gardens каждый месяц проводятся тематические события, ограниченные по времени. В них игроки могут получить уникальные предметы для сада и персонажей, дополнительные монеты или бонусы. Для получения награды требуется пройти ряд уровней за определенное время. С помощью каких метрик можно оценить результаты последнего прошедшего события?\n",
    "\n",
    "Предположим, в другом событии мы усложнили механику событий так, что при каждой неудачной попытке выполнения уровня игрок будет откатываться на несколько уровней назад. Изменится ли набор метрик оценки результата? Если да, то как?"
   ]
  },
  {
   "cell_type": "markdown",
   "metadata": {},
   "source": [
    "                        С помощью каких метрик можно оценить результаты последнего прошедшего события?\n",
    "\n",
    "1. Метрики роста:\n",
    "    \n",
    "        1) DAU/MAU - сколько уникальных пользователей участвовало в событии.\n",
    "        2) Retantion - сколько число игроков вернулось в игру в момент старта события; процент удержания игроков на период проведения мероприятия.\n",
    "        3) Конверсия в игру (CR) - сколько игроков играло в событие по отношению к общему числу игроков игры.\n",
    "        4) Churn rate - сколько игроков ушло после первой миссии события, то есть не продолжили играть (показывает заинтересованность в событии. Смогло ли оно сразу увлечь игроков).\n",
    "        5) Total Revenue события.\n",
    "        6) ARPU - повлияло ли событие на средний чек игрока\n",
    "\n",
    "2. Метрики продукта:\n",
    "\n",
    "        1) Сколько игроков закончили тематическое событие.\n",
    "        2) Среднее число уровней, которое смогли пройти игроки.\n",
    "        3) Самые сложные уровни, после которых уходило больше всего людей.\n",
    "    \n",
    "3. Качественные метрики:\n",
    "        1) Обратная связь игроков - отзывы, рейтинг игры."
   ]
  },
  {
   "cell_type": "markdown",
   "metadata": {},
   "source": [
    "                Предположим, в другом событии мы усложнили механику событий так, что при каждой неудачной попытке выполнения уровня игрок будет откатываться на несколько уровней назад. Изменится ли набор метрик оценки результата? Если да, то как?\n",
    "                  \n",
    "Данный механизм повлияет на набор метрик, потребуются дополнительно новые метрики для более точной оценки:\n",
    "\n",
    "1. Среднее количество повторных попыток на уровне.\n",
    "2. Сколько пользователей откатывалось назад хотя бы раз.\n",
    "3. Среднее время игрока на уровень.\n",
    "4. Churn rate false - сколько игроков ушло после первого провала в событии.\n",
    "5. Затраты на игрока в месяц - есть ощущение, что сообщений в поддержку будет больше из-за увеличивающейся сложности казуальной игры.\n",
    "\n",
    "Также усложнение игры повлияет на все предыдущие метрики (с примером возможного изменения метрик):\n",
    "1. DAU/MAU - данное усложнение может как привлечь более хардкорных игроков, так и оттолкнуть казуальных.\n",
    "2. Retantion\n",
    "3. Конверсия в игру (CR)\n",
    "4. Churn rate - для казуальной игры усложнение может изменить показания данной метрики\n",
    "5. Total Revenue события - есть шанс, что усложнение вынудит прибегать к дополнительным внутриигровым покупкам, так и шанс, что ноборот оттолкнет от такого рода принуждения к покупкам\n",
    "6. ARPU - также может измениться в связи с новыми покупками из-за усложнения игры\n",
    "7. Сколько игроков закончили тематическое событие - так как событие ограничено по времени и могут проихсодить откаты, то это также повлияет на данную метрику\n",
    "8. Среднее число уровней, которое смогли пройти игроки\n",
    "9. Самые сложные уровни, после которых уходило больше всего людей - возможно данный показатель изменится, если игроков вообще стало забрасывать игру больше, то есть на более ранних этапах игры. \n",
    "10. Обратная связь игроков - отзывы, рейтинг игры - трудно сказать как изменится данная метрика. Окажется ли число казуальный игроков, недовольных событием, больше чем хаодкорных или тех, у кого есть различные пропуски/подписки/дополнительные паки. Всё зависит от реализации самого события.\n",
    "\n",
    "Уверенно сказать как именно повлияет усложнение механики события на итоговый продукт невозможно без рассмотрения в деталях всех метрик и проведении А/В тестирования."
   ]
  },
  {
   "cell_type": "code",
   "execution_count": null,
   "metadata": {},
   "outputs": [],
   "source": []
  }
 ],
 "metadata": {
  "kernelspec": {
   "display_name": "Python 3",
   "language": "python",
   "name": "python3"
  },
  "language_info": {
   "codemirror_mode": {
    "name": "ipython",
    "version": 3
   },
   "file_extension": ".py",
   "mimetype": "text/x-python",
   "name": "python",
   "nbconvert_exporter": "python",
   "pygments_lexer": "ipython3",
   "version": "3.7.3"
  }
 },
 "nbformat": 4,
 "nbformat_minor": 4
}
