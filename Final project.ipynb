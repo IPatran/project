{
 "cells": [
  {
   "cell_type": "code",
   "execution_count": 1,
   "metadata": {},
   "outputs": [],
   "source": [
    "import pandas                   as pd\n",
    "import seaborn                  as sns\n",
    "import matplotlib.pyplot        as plt\n",
    "import matplotlib.colors        as mcolors\n",
    "import plotly.express           as px\n",
    "import matplotlib.pyplot        as plt\n",
    "import os \n",
    "import numpy                    as np\n",
    "from scipy import stats         as ss\n",
    "import statistics\n",
    "import scipy.stats              as st\n",
    "import statsmodels.api          as sm\n",
    "import statsmodels.formula.api  as smf\n",
    "from operator import attrgetter\n",
    "import seaborn                  as sns"
   ]
  },
  {
   "cell_type": "code",
   "execution_count": 2,
   "metadata": {},
   "outputs": [
    {
     "name": "stdout",
     "output_type": "stream",
     "text": [
      "/mnt/HC_Volume_18315164/home-jupyter/jupyter-ivan-patran-brk868-0bbd9/My_folder/_FINAL project\n"
     ]
    }
   ],
   "source": [
    "# Смотрю путь до файлов\n",
    "import os\n",
    "print(os.getcwd())"
   ]
  },
  {
   "cell_type": "markdown",
   "metadata": {},
   "source": [
    "                                                    # Задание 1\n",
    "                                Retention – один из самых важных показателей в компании. \n",
    "    Ваша задача – написать функцию, которая будет считать retention игроков (по дням от даты регистрации игрока). "
   ]
  },
  {
   "cell_type": "code",
   "execution_count": 3,
   "metadata": {},
   "outputs": [],
   "source": [
    "reg_data_df = pd.read_csv(\"/mnt/HC_Volume_18315164/home-jupyter/jupyter-ivan-patran-brk868-0bbd9/shared/problem1-reg_data.csv\") # данные о времени регистрации"
   ]
  },
  {
   "cell_type": "code",
   "execution_count": 4,
   "metadata": {},
   "outputs": [
    {
     "data": {
      "text/html": [
       "<div>\n",
       "<style scoped>\n",
       "    .dataframe tbody tr th:only-of-type {\n",
       "        vertical-align: middle;\n",
       "    }\n",
       "\n",
       "    .dataframe tbody tr th {\n",
       "        vertical-align: top;\n",
       "    }\n",
       "\n",
       "    .dataframe thead th {\n",
       "        text-align: right;\n",
       "    }\n",
       "</style>\n",
       "<table border=\"1\" class=\"dataframe\">\n",
       "  <thead>\n",
       "    <tr style=\"text-align: right;\">\n",
       "      <th></th>\n",
       "      <th>reg_ts;uid</th>\n",
       "    </tr>\n",
       "  </thead>\n",
       "  <tbody>\n",
       "    <tr>\n",
       "      <th>0</th>\n",
       "      <td>911382223;1</td>\n",
       "    </tr>\n",
       "    <tr>\n",
       "      <th>1</th>\n",
       "      <td>932683089;2</td>\n",
       "    </tr>\n",
       "    <tr>\n",
       "      <th>2</th>\n",
       "      <td>947802447;3</td>\n",
       "    </tr>\n",
       "    <tr>\n",
       "      <th>3</th>\n",
       "      <td>959523541;4</td>\n",
       "    </tr>\n",
       "    <tr>\n",
       "      <th>4</th>\n",
       "      <td>969103313;5</td>\n",
       "    </tr>\n",
       "  </tbody>\n",
       "</table>\n",
       "</div>"
      ],
      "text/plain": [
       "    reg_ts;uid\n",
       "0  911382223;1\n",
       "1  932683089;2\n",
       "2  947802447;3\n",
       "3  959523541;4\n",
       "4  969103313;5"
      ]
     },
     "execution_count": 4,
     "metadata": {},
     "output_type": "execute_result"
    }
   ],
   "source": [
    "reg_data_df.head()"
   ]
  },
  {
   "cell_type": "code",
   "execution_count": 5,
   "metadata": {},
   "outputs": [],
   "source": [
    "# Преобразование, разделение значений на 2 колонки\n",
    "reg_data_df['reg_ts'] = reg_data_df['reg_ts;uid'].apply(lambda x: x.split(';')[0])\n",
    "reg_data_df['uid'] = reg_data_df['reg_ts;uid'].apply(lambda x: x.split(';')[1])\n",
    "reg_data_df.drop(columns=['reg_ts;uid'], inplace=True)"
   ]
  },
  {
   "cell_type": "code",
   "execution_count": 6,
   "metadata": {},
   "outputs": [
    {
     "data": {
      "text/html": [
       "<div>\n",
       "<style scoped>\n",
       "    .dataframe tbody tr th:only-of-type {\n",
       "        vertical-align: middle;\n",
       "    }\n",
       "\n",
       "    .dataframe tbody tr th {\n",
       "        vertical-align: top;\n",
       "    }\n",
       "\n",
       "    .dataframe thead th {\n",
       "        text-align: right;\n",
       "    }\n",
       "</style>\n",
       "<table border=\"1\" class=\"dataframe\">\n",
       "  <thead>\n",
       "    <tr style=\"text-align: right;\">\n",
       "      <th></th>\n",
       "      <th>reg_ts</th>\n",
       "      <th>uid</th>\n",
       "    </tr>\n",
       "  </thead>\n",
       "  <tbody>\n",
       "    <tr>\n",
       "      <th>0</th>\n",
       "      <td>911382223</td>\n",
       "      <td>1</td>\n",
       "    </tr>\n",
       "    <tr>\n",
       "      <th>1</th>\n",
       "      <td>932683089</td>\n",
       "      <td>2</td>\n",
       "    </tr>\n",
       "    <tr>\n",
       "      <th>2</th>\n",
       "      <td>947802447</td>\n",
       "      <td>3</td>\n",
       "    </tr>\n",
       "    <tr>\n",
       "      <th>3</th>\n",
       "      <td>959523541</td>\n",
       "      <td>4</td>\n",
       "    </tr>\n",
       "    <tr>\n",
       "      <th>4</th>\n",
       "      <td>969103313</td>\n",
       "      <td>5</td>\n",
       "    </tr>\n",
       "  </tbody>\n",
       "</table>\n",
       "</div>"
      ],
      "text/plain": [
       "      reg_ts uid\n",
       "0  911382223   1\n",
       "1  932683089   2\n",
       "2  947802447   3\n",
       "3  959523541   4\n",
       "4  969103313   5"
      ]
     },
     "execution_count": 6,
     "metadata": {},
     "output_type": "execute_result"
    }
   ],
   "source": [
    "reg_data_df.head()"
   ]
  },
  {
   "cell_type": "code",
   "execution_count": 7,
   "metadata": {},
   "outputs": [],
   "source": [
    "auth_data_df = pd.read_csv(\"/mnt/HC_Volume_18315164/home-jupyter/jupyter-ivan-patran-brk868-0bbd9/shared/problem1-auth_data.csv\") # данные о времени захода пользователей в игру"
   ]
  },
  {
   "cell_type": "code",
   "execution_count": 8,
   "metadata": {},
   "outputs": [
    {
     "data": {
      "text/html": [
       "<div>\n",
       "<style scoped>\n",
       "    .dataframe tbody tr th:only-of-type {\n",
       "        vertical-align: middle;\n",
       "    }\n",
       "\n",
       "    .dataframe tbody tr th {\n",
       "        vertical-align: top;\n",
       "    }\n",
       "\n",
       "    .dataframe thead th {\n",
       "        text-align: right;\n",
       "    }\n",
       "</style>\n",
       "<table border=\"1\" class=\"dataframe\">\n",
       "  <thead>\n",
       "    <tr style=\"text-align: right;\">\n",
       "      <th></th>\n",
       "      <th>auth_ts;uid</th>\n",
       "    </tr>\n",
       "  </thead>\n",
       "  <tbody>\n",
       "    <tr>\n",
       "      <th>0</th>\n",
       "      <td>911382223;1</td>\n",
       "    </tr>\n",
       "    <tr>\n",
       "      <th>1</th>\n",
       "      <td>932683089;2</td>\n",
       "    </tr>\n",
       "    <tr>\n",
       "      <th>2</th>\n",
       "      <td>932921206;2</td>\n",
       "    </tr>\n",
       "    <tr>\n",
       "      <th>3</th>\n",
       "      <td>933393015;2</td>\n",
       "    </tr>\n",
       "    <tr>\n",
       "      <th>4</th>\n",
       "      <td>933875379;2</td>\n",
       "    </tr>\n",
       "  </tbody>\n",
       "</table>\n",
       "</div>"
      ],
      "text/plain": [
       "   auth_ts;uid\n",
       "0  911382223;1\n",
       "1  932683089;2\n",
       "2  932921206;2\n",
       "3  933393015;2\n",
       "4  933875379;2"
      ]
     },
     "execution_count": 8,
     "metadata": {},
     "output_type": "execute_result"
    }
   ],
   "source": [
    "auth_data_df.head()"
   ]
  },
  {
   "cell_type": "code",
   "execution_count": 9,
   "metadata": {},
   "outputs": [],
   "source": [
    "# Преобразование, разделение значений на 2 колонки\n",
    "auth_data_df['auth_ts'] = auth_data_df['auth_ts;uid'].apply(lambda x: x.split(';')[0])\n",
    "auth_data_df['uid'] = auth_data_df['auth_ts;uid'].apply(lambda x: x.split(';')[1])\n",
    "auth_data_df.drop(columns=['auth_ts;uid'], inplace=True)"
   ]
  },
  {
   "cell_type": "code",
   "execution_count": 10,
   "metadata": {},
   "outputs": [
    {
     "data": {
      "text/html": [
       "<div>\n",
       "<style scoped>\n",
       "    .dataframe tbody tr th:only-of-type {\n",
       "        vertical-align: middle;\n",
       "    }\n",
       "\n",
       "    .dataframe tbody tr th {\n",
       "        vertical-align: top;\n",
       "    }\n",
       "\n",
       "    .dataframe thead th {\n",
       "        text-align: right;\n",
       "    }\n",
       "</style>\n",
       "<table border=\"1\" class=\"dataframe\">\n",
       "  <thead>\n",
       "    <tr style=\"text-align: right;\">\n",
       "      <th></th>\n",
       "      <th>auth_ts</th>\n",
       "      <th>uid</th>\n",
       "    </tr>\n",
       "  </thead>\n",
       "  <tbody>\n",
       "    <tr>\n",
       "      <th>0</th>\n",
       "      <td>911382223</td>\n",
       "      <td>1</td>\n",
       "    </tr>\n",
       "    <tr>\n",
       "      <th>1</th>\n",
       "      <td>932683089</td>\n",
       "      <td>2</td>\n",
       "    </tr>\n",
       "    <tr>\n",
       "      <th>2</th>\n",
       "      <td>932921206</td>\n",
       "      <td>2</td>\n",
       "    </tr>\n",
       "    <tr>\n",
       "      <th>3</th>\n",
       "      <td>933393015</td>\n",
       "      <td>2</td>\n",
       "    </tr>\n",
       "    <tr>\n",
       "      <th>4</th>\n",
       "      <td>933875379</td>\n",
       "      <td>2</td>\n",
       "    </tr>\n",
       "  </tbody>\n",
       "</table>\n",
       "</div>"
      ],
      "text/plain": [
       "     auth_ts uid\n",
       "0  911382223   1\n",
       "1  932683089   2\n",
       "2  932921206   2\n",
       "3  933393015   2\n",
       "4  933875379   2"
      ]
     },
     "execution_count": 10,
     "metadata": {},
     "output_type": "execute_result"
    }
   ],
   "source": [
    "auth_data_df.head()"
   ]
  },
  {
   "cell_type": "code",
   "execution_count": 11,
   "metadata": {},
   "outputs": [],
   "source": [
    "# Преобразование типов данных (reg_ts и auth_ts)\n",
    "reg_data_df['reg_ts'] = reg_data_df['reg_ts'].astype(int)\n",
    "auth_data_df['auth_ts'] = auth_data_df['auth_ts'].astype(int)\n",
    "reg_data_df['reg_date'] = pd.to_datetime(reg_data_df['reg_ts'], unit='s')\n",
    "auth_data_df['auth_date'] = pd.to_datetime(auth_data_df['auth_ts'], unit='s')\n",
    "reg_data_df.drop(columns=['reg_ts'], inplace=True)\n",
    "auth_data_df.drop(columns=['auth_ts'], inplace=True)"
   ]
  },
  {
   "cell_type": "code",
   "execution_count": 12,
   "metadata": {},
   "outputs": [
    {
     "data": {
      "text/html": [
       "<div>\n",
       "<style scoped>\n",
       "    .dataframe tbody tr th:only-of-type {\n",
       "        vertical-align: middle;\n",
       "    }\n",
       "\n",
       "    .dataframe tbody tr th {\n",
       "        vertical-align: top;\n",
       "    }\n",
       "\n",
       "    .dataframe thead th {\n",
       "        text-align: right;\n",
       "    }\n",
       "</style>\n",
       "<table border=\"1\" class=\"dataframe\">\n",
       "  <thead>\n",
       "    <tr style=\"text-align: right;\">\n",
       "      <th></th>\n",
       "      <th>uid</th>\n",
       "      <th>reg_date</th>\n",
       "    </tr>\n",
       "  </thead>\n",
       "  <tbody>\n",
       "    <tr>\n",
       "      <th>0</th>\n",
       "      <td>1</td>\n",
       "      <td>1998-11-18 09:43:43</td>\n",
       "    </tr>\n",
       "    <tr>\n",
       "      <th>1</th>\n",
       "      <td>2</td>\n",
       "      <td>1999-07-22 22:38:09</td>\n",
       "    </tr>\n",
       "    <tr>\n",
       "      <th>2</th>\n",
       "      <td>3</td>\n",
       "      <td>2000-01-13 22:27:27</td>\n",
       "    </tr>\n",
       "    <tr>\n",
       "      <th>3</th>\n",
       "      <td>4</td>\n",
       "      <td>2000-05-28 14:19:01</td>\n",
       "    </tr>\n",
       "    <tr>\n",
       "      <th>4</th>\n",
       "      <td>5</td>\n",
       "      <td>2000-09-16 11:21:53</td>\n",
       "    </tr>\n",
       "  </tbody>\n",
       "</table>\n",
       "</div>"
      ],
      "text/plain": [
       "  uid            reg_date\n",
       "0   1 1998-11-18 09:43:43\n",
       "1   2 1999-07-22 22:38:09\n",
       "2   3 2000-01-13 22:27:27\n",
       "3   4 2000-05-28 14:19:01\n",
       "4   5 2000-09-16 11:21:53"
      ]
     },
     "execution_count": 12,
     "metadata": {},
     "output_type": "execute_result"
    }
   ],
   "source": [
    "reg_data_df.head()"
   ]
  },
  {
   "cell_type": "code",
   "execution_count": 13,
   "metadata": {},
   "outputs": [
    {
     "data": {
      "text/html": [
       "<div>\n",
       "<style scoped>\n",
       "    .dataframe tbody tr th:only-of-type {\n",
       "        vertical-align: middle;\n",
       "    }\n",
       "\n",
       "    .dataframe tbody tr th {\n",
       "        vertical-align: top;\n",
       "    }\n",
       "\n",
       "    .dataframe thead th {\n",
       "        text-align: right;\n",
       "    }\n",
       "</style>\n",
       "<table border=\"1\" class=\"dataframe\">\n",
       "  <thead>\n",
       "    <tr style=\"text-align: right;\">\n",
       "      <th></th>\n",
       "      <th>uid</th>\n",
       "      <th>auth_date</th>\n",
       "    </tr>\n",
       "  </thead>\n",
       "  <tbody>\n",
       "    <tr>\n",
       "      <th>0</th>\n",
       "      <td>1</td>\n",
       "      <td>1998-11-18 09:43:43</td>\n",
       "    </tr>\n",
       "    <tr>\n",
       "      <th>1</th>\n",
       "      <td>2</td>\n",
       "      <td>1999-07-22 22:38:09</td>\n",
       "    </tr>\n",
       "    <tr>\n",
       "      <th>2</th>\n",
       "      <td>2</td>\n",
       "      <td>1999-07-25 16:46:46</td>\n",
       "    </tr>\n",
       "    <tr>\n",
       "      <th>3</th>\n",
       "      <td>2</td>\n",
       "      <td>1999-07-31 03:50:15</td>\n",
       "    </tr>\n",
       "    <tr>\n",
       "      <th>4</th>\n",
       "      <td>2</td>\n",
       "      <td>1999-08-05 17:49:39</td>\n",
       "    </tr>\n",
       "  </tbody>\n",
       "</table>\n",
       "</div>"
      ],
      "text/plain": [
       "  uid           auth_date\n",
       "0   1 1998-11-18 09:43:43\n",
       "1   2 1999-07-22 22:38:09\n",
       "2   2 1999-07-25 16:46:46\n",
       "3   2 1999-07-31 03:50:15\n",
       "4   2 1999-08-05 17:49:39"
      ]
     },
     "execution_count": 13,
     "metadata": {},
     "output_type": "execute_result"
    }
   ],
   "source": [
    "auth_data_df.head()"
   ]
  },
  {
   "cell_type": "code",
   "execution_count": 14,
   "metadata": {},
   "outputs": [],
   "source": [
    "# Объединение данных \n",
    "merged_data = reg_data_df.merge(auth_data_df, on='uid', how='left')\n",
    "\n",
    "# Расчёт дней с момента регистрации\n",
    "merged_data['days_since_reg'] = (merged_data['auth_date'] - merged_data['reg_date']).dt.days"
   ]
  },
  {
   "cell_type": "code",
   "execution_count": 15,
   "metadata": {},
   "outputs": [
    {
     "data": {
      "text/html": [
       "<div>\n",
       "<style scoped>\n",
       "    .dataframe tbody tr th:only-of-type {\n",
       "        vertical-align: middle;\n",
       "    }\n",
       "\n",
       "    .dataframe tbody tr th {\n",
       "        vertical-align: top;\n",
       "    }\n",
       "\n",
       "    .dataframe thead th {\n",
       "        text-align: right;\n",
       "    }\n",
       "</style>\n",
       "<table border=\"1\" class=\"dataframe\">\n",
       "  <thead>\n",
       "    <tr style=\"text-align: right;\">\n",
       "      <th></th>\n",
       "      <th>uid</th>\n",
       "      <th>reg_date</th>\n",
       "      <th>auth_date</th>\n",
       "      <th>days_since_reg</th>\n",
       "    </tr>\n",
       "  </thead>\n",
       "  <tbody>\n",
       "    <tr>\n",
       "      <th>0</th>\n",
       "      <td>1</td>\n",
       "      <td>1998-11-18 09:43:43</td>\n",
       "      <td>1998-11-18 09:43:43</td>\n",
       "      <td>0</td>\n",
       "    </tr>\n",
       "    <tr>\n",
       "      <th>1</th>\n",
       "      <td>2</td>\n",
       "      <td>1999-07-22 22:38:09</td>\n",
       "      <td>1999-07-22 22:38:09</td>\n",
       "      <td>0</td>\n",
       "    </tr>\n",
       "    <tr>\n",
       "      <th>2</th>\n",
       "      <td>2</td>\n",
       "      <td>1999-07-22 22:38:09</td>\n",
       "      <td>1999-07-25 16:46:46</td>\n",
       "      <td>2</td>\n",
       "    </tr>\n",
       "    <tr>\n",
       "      <th>3</th>\n",
       "      <td>2</td>\n",
       "      <td>1999-07-22 22:38:09</td>\n",
       "      <td>1999-07-31 03:50:15</td>\n",
       "      <td>8</td>\n",
       "    </tr>\n",
       "    <tr>\n",
       "      <th>4</th>\n",
       "      <td>2</td>\n",
       "      <td>1999-07-22 22:38:09</td>\n",
       "      <td>1999-08-05 17:49:39</td>\n",
       "      <td>13</td>\n",
       "    </tr>\n",
       "    <tr>\n",
       "      <th>5</th>\n",
       "      <td>2</td>\n",
       "      <td>1999-07-22 22:38:09</td>\n",
       "      <td>1999-08-11 11:56:55</td>\n",
       "      <td>19</td>\n",
       "    </tr>\n",
       "    <tr>\n",
       "      <th>6</th>\n",
       "      <td>2</td>\n",
       "      <td>1999-07-22 22:38:09</td>\n",
       "      <td>1999-08-14 20:30:33</td>\n",
       "      <td>22</td>\n",
       "    </tr>\n",
       "    <tr>\n",
       "      <th>7</th>\n",
       "      <td>2</td>\n",
       "      <td>1999-07-22 22:38:09</td>\n",
       "      <td>1999-08-18 18:56:26</td>\n",
       "      <td>26</td>\n",
       "    </tr>\n",
       "    <tr>\n",
       "      <th>8</th>\n",
       "      <td>2</td>\n",
       "      <td>1999-07-22 22:38:09</td>\n",
       "      <td>1999-08-20 09:27:12</td>\n",
       "      <td>28</td>\n",
       "    </tr>\n",
       "    <tr>\n",
       "      <th>9</th>\n",
       "      <td>2</td>\n",
       "      <td>1999-07-22 22:38:09</td>\n",
       "      <td>1999-08-26 15:52:32</td>\n",
       "      <td>34</td>\n",
       "    </tr>\n",
       "  </tbody>\n",
       "</table>\n",
       "</div>"
      ],
      "text/plain": [
       "  uid            reg_date           auth_date  days_since_reg\n",
       "0   1 1998-11-18 09:43:43 1998-11-18 09:43:43               0\n",
       "1   2 1999-07-22 22:38:09 1999-07-22 22:38:09               0\n",
       "2   2 1999-07-22 22:38:09 1999-07-25 16:46:46               2\n",
       "3   2 1999-07-22 22:38:09 1999-07-31 03:50:15               8\n",
       "4   2 1999-07-22 22:38:09 1999-08-05 17:49:39              13\n",
       "5   2 1999-07-22 22:38:09 1999-08-11 11:56:55              19\n",
       "6   2 1999-07-22 22:38:09 1999-08-14 20:30:33              22\n",
       "7   2 1999-07-22 22:38:09 1999-08-18 18:56:26              26\n",
       "8   2 1999-07-22 22:38:09 1999-08-20 09:27:12              28\n",
       "9   2 1999-07-22 22:38:09 1999-08-26 15:52:32              34"
      ]
     },
     "execution_count": 15,
     "metadata": {},
     "output_type": "execute_result"
    }
   ],
   "source": [
    "merged_data.head(10)"
   ]
  },
  {
   "cell_type": "code",
   "execution_count": 16,
   "metadata": {},
   "outputs": [
    {
     "data": {
      "text/html": [
       "<div>\n",
       "<style scoped>\n",
       "    .dataframe tbody tr th:only-of-type {\n",
       "        vertical-align: middle;\n",
       "    }\n",
       "\n",
       "    .dataframe tbody tr th {\n",
       "        vertical-align: top;\n",
       "    }\n",
       "\n",
       "    .dataframe thead th {\n",
       "        text-align: right;\n",
       "    }\n",
       "</style>\n",
       "<table border=\"1\" class=\"dataframe\">\n",
       "  <thead>\n",
       "    <tr style=\"text-align: right;\">\n",
       "      <th></th>\n",
       "      <th>uid</th>\n",
       "      <th>reg_date</th>\n",
       "      <th>auth_date</th>\n",
       "      <th>days_since_reg</th>\n",
       "    </tr>\n",
       "  </thead>\n",
       "  <tbody>\n",
       "    <tr>\n",
       "      <th>1929</th>\n",
       "      <td>2</td>\n",
       "      <td>1999-07-22 22:38:09</td>\n",
       "      <td>2020-09-18 11:24:29</td>\n",
       "      <td>7728</td>\n",
       "    </tr>\n",
       "    <tr>\n",
       "      <th>1928</th>\n",
       "      <td>2</td>\n",
       "      <td>1999-07-22 22:38:09</td>\n",
       "      <td>2020-09-16 04:27:12</td>\n",
       "      <td>7726</td>\n",
       "    </tr>\n",
       "    <tr>\n",
       "      <th>1927</th>\n",
       "      <td>2</td>\n",
       "      <td>1999-07-22 22:38:09</td>\n",
       "      <td>2020-09-10 10:10:21</td>\n",
       "      <td>7720</td>\n",
       "    </tr>\n",
       "    <tr>\n",
       "      <th>1926</th>\n",
       "      <td>2</td>\n",
       "      <td>1999-07-22 22:38:09</td>\n",
       "      <td>2020-09-09 09:06:39</td>\n",
       "      <td>7719</td>\n",
       "    </tr>\n",
       "    <tr>\n",
       "      <th>1925</th>\n",
       "      <td>2</td>\n",
       "      <td>1999-07-22 22:38:09</td>\n",
       "      <td>2020-09-05 15:18:24</td>\n",
       "      <td>7715</td>\n",
       "    </tr>\n",
       "    <tr>\n",
       "      <th>...</th>\n",
       "      <td>...</td>\n",
       "      <td>...</td>\n",
       "      <td>...</td>\n",
       "      <td>...</td>\n",
       "    </tr>\n",
       "    <tr>\n",
       "      <th>7443756</th>\n",
       "      <td>553985</td>\n",
       "      <td>2019-07-28 22:57:52</td>\n",
       "      <td>2019-07-28 22:57:52</td>\n",
       "      <td>0</td>\n",
       "    </tr>\n",
       "    <tr>\n",
       "      <th>7443755</th>\n",
       "      <td>553984</td>\n",
       "      <td>2019-07-28 22:56:07</td>\n",
       "      <td>2019-07-28 22:56:07</td>\n",
       "      <td>0</td>\n",
       "    </tr>\n",
       "    <tr>\n",
       "      <th>7443754</th>\n",
       "      <td>553983</td>\n",
       "      <td>2019-07-28 22:54:21</td>\n",
       "      <td>2019-07-28 22:54:21</td>\n",
       "      <td>0</td>\n",
       "    </tr>\n",
       "    <tr>\n",
       "      <th>7443748</th>\n",
       "      <td>553982</td>\n",
       "      <td>2019-07-28 22:52:36</td>\n",
       "      <td>2019-07-28 22:52:36</td>\n",
       "      <td>0</td>\n",
       "    </tr>\n",
       "    <tr>\n",
       "      <th>9601012</th>\n",
       "      <td>1110622</td>\n",
       "      <td>2020-09-23 15:17:24</td>\n",
       "      <td>2020-09-23 15:17:24</td>\n",
       "      <td>0</td>\n",
       "    </tr>\n",
       "  </tbody>\n",
       "</table>\n",
       "<p>9601013 rows × 4 columns</p>\n",
       "</div>"
      ],
      "text/plain": [
       "             uid            reg_date           auth_date  days_since_reg\n",
       "1929           2 1999-07-22 22:38:09 2020-09-18 11:24:29            7728\n",
       "1928           2 1999-07-22 22:38:09 2020-09-16 04:27:12            7726\n",
       "1927           2 1999-07-22 22:38:09 2020-09-10 10:10:21            7720\n",
       "1926           2 1999-07-22 22:38:09 2020-09-09 09:06:39            7719\n",
       "1925           2 1999-07-22 22:38:09 2020-09-05 15:18:24            7715\n",
       "...          ...                 ...                 ...             ...\n",
       "7443756   553985 2019-07-28 22:57:52 2019-07-28 22:57:52               0\n",
       "7443755   553984 2019-07-28 22:56:07 2019-07-28 22:56:07               0\n",
       "7443754   553983 2019-07-28 22:54:21 2019-07-28 22:54:21               0\n",
       "7443748   553982 2019-07-28 22:52:36 2019-07-28 22:52:36               0\n",
       "9601012  1110622 2020-09-23 15:17:24 2020-09-23 15:17:24               0\n",
       "\n",
       "[9601013 rows x 4 columns]"
      ]
     },
     "execution_count": 16,
     "metadata": {},
     "output_type": "execute_result"
    }
   ],
   "source": [
    "merged_data_sort = merged_data.sort_values(by='days_since_reg', ascending=False)\n",
    "merged_data_sort"
   ]
  },
  {
   "cell_type": "markdown",
   "metadata": {},
   "source": [
    "                                                Retention по дням"
   ]
  },
  {
   "cell_type": "code",
   "execution_count": 17,
   "metadata": {},
   "outputs": [
    {
     "data": {
      "text/html": [
       "<div>\n",
       "<style scoped>\n",
       "    .dataframe tbody tr th:only-of-type {\n",
       "        vertical-align: middle;\n",
       "    }\n",
       "\n",
       "    .dataframe tbody tr th {\n",
       "        vertical-align: top;\n",
       "    }\n",
       "\n",
       "    .dataframe thead th {\n",
       "        text-align: right;\n",
       "    }\n",
       "</style>\n",
       "<table border=\"1\" class=\"dataframe\">\n",
       "  <thead>\n",
       "    <tr style=\"text-align: right;\">\n",
       "      <th></th>\n",
       "      <th>day</th>\n",
       "      <th>retention_rate</th>\n",
       "    </tr>\n",
       "  </thead>\n",
       "  <tbody>\n",
       "    <tr>\n",
       "      <th>0</th>\n",
       "      <td>1</td>\n",
       "      <td>4.0202</td>\n",
       "    </tr>\n",
       "    <tr>\n",
       "      <th>1</th>\n",
       "      <td>2</td>\n",
       "      <td>4.2991</td>\n",
       "    </tr>\n",
       "    <tr>\n",
       "      <th>2</th>\n",
       "      <td>3</td>\n",
       "      <td>4.9152</td>\n",
       "    </tr>\n",
       "    <tr>\n",
       "      <th>3</th>\n",
       "      <td>4</td>\n",
       "      <td>5.6070</td>\n",
       "    </tr>\n",
       "    <tr>\n",
       "      <th>4</th>\n",
       "      <td>5</td>\n",
       "      <td>6.3713</td>\n",
       "    </tr>\n",
       "  </tbody>\n",
       "</table>\n",
       "</div>"
      ],
      "text/plain": [
       "   day  retention_rate\n",
       "0    1          4.0202\n",
       "1    2          4.2991\n",
       "2    3          4.9152\n",
       "3    4          5.6070\n",
       "4    5          6.3713"
      ]
     },
     "execution_count": 17,
     "metadata": {},
     "output_type": "execute_result"
    }
   ],
   "source": [
    "# Расчет retention по дням\n",
    "def calculate_daily_retention(data, max_days=30):\n",
    "    retention_data = []\n",
    "    registered_users = data['uid'].nunique()\n",
    "    for day in range(1, max_days + 1):\n",
    "        retained_users = data[data['days_since_reg'] == day]['uid'].nunique()\n",
    "        retention_rate = (retained_users / registered_users) * 100\n",
    "        retention_data.append({'day': day, 'retention_rate': retention_rate})\n",
    "    return pd.DataFrame(retention_data)\n",
    "daily_retention_results = calculate_daily_retention(merged_data, max_days=30)\n",
    "daily_retention_results.head()"
   ]
  },
  {
   "cell_type": "code",
   "execution_count": 37,
   "metadata": {},
   "outputs": [
    {
     "data": {
      "image/png": "[encoded data removed]",
      "text/plain": [
       "<Figure size 1008x576 with 1 Axes>"
      ]
     },
     "metadata": {
      "needs_background": "light"
     },
     "output_type": "display_data"
    }
   ],
   "source": [
    "# График\n",
    "plt.figure(figsize=(14, 8))\n",
    "plt.plot(daily_retention_results['day'], daily_retention_results['retention_rate'], marker='o', color='g', label='Retention')\n",
    "plt.title('Retention по дням', fontsize=16)\n",
    "plt.xlabel('Дней с момента регистрации', fontsize=12)\n",
    "plt.ylabel('Retention Rate, %', fontsize=12)\n",
    "plt.grid(True)\n",
    "plt.xticks(range(1, daily_retention_results['day'].max() + 1))\n",
    "plt.legend(fontsize=12)\n",
    "plt.tight_layout()\n",
    "for i, row in daily_retention_results.iterrows():\n",
    "    plt.text(row['day'], row['retention_rate'] + 0.1, f\"{row['retention_rate']:.2f}%\", ha='center', fontsize=8, color='r')\n",
    "plt.show()"
   ]
  },
  {
   "cell_type": "markdown",
   "metadata": {},
   "source": [
    "                                          "
   ]
  },
  {
   "cell_type": "markdown",
   "metadata": {},
   "source": [
    "                                            Retention по месяцам (как вариант к рассмотрения)\n",
    "            Retention по месяцам, так как это мобильная игра и скорее всего имеется ежемесячная подписка \n",
    "                                            или иные ежемесячные платные бонусы."
   ]
  },
  {
   "cell_type": "code",
   "execution_count": 19,
   "metadata": {},
   "outputs": [],
   "source": [
    "merged_data['months_since_reg'] = ((merged_data['auth_date'].dt.year - merged_data['reg_date'].dt.year) * 12 +\n",
    "                                   (merged_data['auth_date'].dt.month - merged_data['reg_date'].dt.month))\n",
    "\n",
    "# Функция для расчета retention по месяцам\n",
    "def calculate_monthly_retention(data, max_months=12):\n",
    "    retention_data = []\n",
    "    registered_users = data['uid'].nunique()\n",
    "    for month in range(1, max_months + 1):\n",
    "        retained_users = data[data['months_since_reg'] == month]['uid'].nunique()\n",
    "        retention_rate = (retained_users / registered_users) * 100\n",
    "        retention_data.append({'month': month, 'retention_rate': retention_rate})\n",
    "    return pd.DataFrame(retention_data)\n",
    "\n",
    "# Retention по месяцам\n",
    "monthly_retention_results = calculate_monthly_retention(merged_data, max_months=12)"
   ]
  },
  {
   "cell_type": "code",
   "execution_count": 20,
   "metadata": {},
   "outputs": [
    {
     "data": {
      "text/html": [
       "<div>\n",
       "<style scoped>\n",
       "    .dataframe tbody tr th:only-of-type {\n",
       "        vertical-align: middle;\n",
       "    }\n",
       "\n",
       "    .dataframe tbody tr th {\n",
       "        vertical-align: top;\n",
       "    }\n",
       "\n",
       "    .dataframe thead th {\n",
       "        text-align: right;\n",
       "    }\n",
       "</style>\n",
       "<table border=\"1\" class=\"dataframe\">\n",
       "  <thead>\n",
       "    <tr style=\"text-align: right;\">\n",
       "      <th></th>\n",
       "      <th>month</th>\n",
       "      <th>retention_rate</th>\n",
       "    </tr>\n",
       "  </thead>\n",
       "  <tbody>\n",
       "    <tr>\n",
       "      <th>0</th>\n",
       "      <td>1</td>\n",
       "      <td>16.8813</td>\n",
       "    </tr>\n",
       "    <tr>\n",
       "      <th>1</th>\n",
       "      <td>2</td>\n",
       "      <td>5.6932</td>\n",
       "    </tr>\n",
       "    <tr>\n",
       "      <th>2</th>\n",
       "      <td>3</td>\n",
       "      <td>4.3703</td>\n",
       "    </tr>\n",
       "    <tr>\n",
       "      <th>3</th>\n",
       "      <td>4</td>\n",
       "      <td>4.1648</td>\n",
       "    </tr>\n",
       "    <tr>\n",
       "      <th>4</th>\n",
       "      <td>5</td>\n",
       "      <td>3.9537</td>\n",
       "    </tr>\n",
       "    <tr>\n",
       "      <th>5</th>\n",
       "      <td>6</td>\n",
       "      <td>3.7600</td>\n",
       "    </tr>\n",
       "    <tr>\n",
       "      <th>6</th>\n",
       "      <td>7</td>\n",
       "      <td>3.5693</td>\n",
       "    </tr>\n",
       "    <tr>\n",
       "      <th>7</th>\n",
       "      <td>8</td>\n",
       "      <td>3.4063</td>\n",
       "    </tr>\n",
       "    <tr>\n",
       "      <th>8</th>\n",
       "      <td>9</td>\n",
       "      <td>3.2374</td>\n",
       "    </tr>\n",
       "    <tr>\n",
       "      <th>9</th>\n",
       "      <td>10</td>\n",
       "      <td>3.0734</td>\n",
       "    </tr>\n",
       "    <tr>\n",
       "      <th>10</th>\n",
       "      <td>11</td>\n",
       "      <td>2.9301</td>\n",
       "    </tr>\n",
       "    <tr>\n",
       "      <th>11</th>\n",
       "      <td>12</td>\n",
       "      <td>2.7826</td>\n",
       "    </tr>\n",
       "  </tbody>\n",
       "</table>\n",
       "</div>"
      ],
      "text/plain": [
       "    month  retention_rate\n",
       "0       1         16.8813\n",
       "1       2          5.6932\n",
       "2       3          4.3703\n",
       "3       4          4.1648\n",
       "4       5          3.9537\n",
       "5       6          3.7600\n",
       "6       7          3.5693\n",
       "7       8          3.4063\n",
       "8       9          3.2374\n",
       "9      10          3.0734\n",
       "10     11          2.9301\n",
       "11     12          2.7826"
      ]
     },
     "execution_count": 20,
     "metadata": {},
     "output_type": "execute_result"
    }
   ],
   "source": [
    "monthly_retention_results"
   ]
  },
  {
   "cell_type": "code",
   "execution_count": 21,
   "metadata": {},
   "outputs": [
    {
     "data": {
      "image/png": "[encoded data removed]",
      "text/plain": [
       "<Figure size 864x720 with 1 Axes>"
      ]
     },
     "metadata": {
      "needs_background": "light"
     },
     "output_type": "display_data"
    }
   ],
   "source": [
    "# График\n",
    "plt.figure(figsize=(12, 10))\n",
    "plt.plot(monthly_retention_results['month'], monthly_retention_results['retention_rate'], marker='o')\n",
    "plt.title('Retention rate по месяцам с момента регистрации', fontsize=16)\n",
    "plt.xlabel('Месяцев со дня регистрации', fontsize=12)\n",
    "plt.ylabel('Retention rate, %', fontsize=12)\n",
    "plt.grid(True)\n",
    "plt.xticks(range(1, 13))\n",
    "plt.tight_layout()\n",
    "for i, row in monthly_retention_results.iterrows():\n",
    "    plt.text(row['month'], row['retention_rate'] + 0.5, f\"{row['retention_rate']:.2f}%\", ha='center', fontsize=10)\n",
    "plt.show()"
   ]
  },
  {
   "cell_type": "code",
   "execution_count": null,
   "metadata": {},
   "outputs": [],
   "source": []
  },
  {
   "cell_type": "markdown",
   "metadata": {},
   "source": [
    "                                                    # Задание 2\n",
    "    Имеются результаты A/B теста, в котором двум группам пользователей предлагались различные наборы акционных предложений.\n",
    "    Известно, что ARPU в тестовой группе выше на 5%, чем в контрольной. При этом в контрольной группе 1928 игроков из 202103 оказались платящими, а в тестовой – 1805 из 202667.\n",
    "    Какой набор предложений можно считать лучшим? \n",
    "    Какие метрики стоит проанализировать для принятия правильного решения и как? "
   ]
  },
  {
   "cell_type": "code",
   "execution_count": 22,
   "metadata": {},
   "outputs": [],
   "source": [
    "df = pd.read_csv(\"Проект_1_Задание_2.csv\")"
   ]
  },
  {
   "cell_type": "code",
   "execution_count": 23,
   "metadata": {},
   "outputs": [
    {
     "data": {
      "text/html": [
       "<div>\n",
       "<style scoped>\n",
       "    .dataframe tbody tr th:only-of-type {\n",
       "        vertical-align: middle;\n",
       "    }\n",
       "\n",
       "    .dataframe tbody tr th {\n",
       "        vertical-align: top;\n",
       "    }\n",
       "\n",
       "    .dataframe thead th {\n",
       "        text-align: right;\n",
       "    }\n",
       "</style>\n",
       "<table border=\"1\" class=\"dataframe\">\n",
       "  <thead>\n",
       "    <tr style=\"text-align: right;\">\n",
       "      <th></th>\n",
       "      <th>user_id;revenue;testgroup</th>\n",
       "    </tr>\n",
       "  </thead>\n",
       "  <tbody>\n",
       "    <tr>\n",
       "      <th>0</th>\n",
       "      <td>1;0;b</td>\n",
       "    </tr>\n",
       "    <tr>\n",
       "      <th>1</th>\n",
       "      <td>2;0;a</td>\n",
       "    </tr>\n",
       "    <tr>\n",
       "      <th>2</th>\n",
       "      <td>3;0;a</td>\n",
       "    </tr>\n",
       "  </tbody>\n",
       "</table>\n",
       "</div>"
      ],
      "text/plain": [
       "  user_id;revenue;testgroup\n",
       "0                     1;0;b\n",
       "1                     2;0;a\n",
       "2                     3;0;a"
      ]
     },
     "execution_count": 23,
     "metadata": {},
     "output_type": "execute_result"
    }
   ],
   "source": [
    "df.head(3)"
   ]
  },
  {
   "cell_type": "code",
   "execution_count": 24,
   "metadata": {},
   "outputs": [],
   "source": [
    "# Преобразование, разделение значений на 3 колонки\n",
    "df['user_id'] = df['user_id;revenue;testgroup'].apply(lambda x: x.split(';')[0])\n",
    "df['revenue'] = df['user_id;revenue;testgroup'].apply(lambda x: x.split(';')[1])\n",
    "df['testgroup'] = df['user_id;revenue;testgroup'].apply(lambda x: x.split(';')[2])\n",
    "df.drop(columns=['user_id;revenue;testgroup'], inplace=True)"
   ]
  },
  {
   "cell_type": "code",
   "execution_count": 25,
   "metadata": {},
   "outputs": [
    {
     "data": {
      "text/html": [
       "<div>\n",
       "<style scoped>\n",
       "    .dataframe tbody tr th:only-of-type {\n",
       "        vertical-align: middle;\n",
       "    }\n",
       "\n",
       "    .dataframe tbody tr th {\n",
       "        vertical-align: top;\n",
       "    }\n",
       "\n",
       "    .dataframe thead th {\n",
       "        text-align: right;\n",
       "    }\n",
       "</style>\n",
       "<table border=\"1\" class=\"dataframe\">\n",
       "  <thead>\n",
       "    <tr style=\"text-align: right;\">\n",
       "      <th></th>\n",
       "      <th>user_id</th>\n",
       "      <th>revenue</th>\n",
       "      <th>testgroup</th>\n",
       "    </tr>\n",
       "  </thead>\n",
       "  <tbody>\n",
       "    <tr>\n",
       "      <th>0</th>\n",
       "      <td>1</td>\n",
       "      <td>0</td>\n",
       "      <td>b</td>\n",
       "    </tr>\n",
       "    <tr>\n",
       "      <th>1</th>\n",
       "      <td>2</td>\n",
       "      <td>0</td>\n",
       "      <td>a</td>\n",
       "    </tr>\n",
       "    <tr>\n",
       "      <th>2</th>\n",
       "      <td>3</td>\n",
       "      <td>0</td>\n",
       "      <td>a</td>\n",
       "    </tr>\n",
       "    <tr>\n",
       "      <th>3</th>\n",
       "      <td>4</td>\n",
       "      <td>0</td>\n",
       "      <td>b</td>\n",
       "    </tr>\n",
       "    <tr>\n",
       "      <th>4</th>\n",
       "      <td>5</td>\n",
       "      <td>0</td>\n",
       "      <td>b</td>\n",
       "    </tr>\n",
       "    <tr>\n",
       "      <th>5</th>\n",
       "      <td>6</td>\n",
       "      <td>0</td>\n",
       "      <td>b</td>\n",
       "    </tr>\n",
       "    <tr>\n",
       "      <th>6</th>\n",
       "      <td>7</td>\n",
       "      <td>0</td>\n",
       "      <td>b</td>\n",
       "    </tr>\n",
       "    <tr>\n",
       "      <th>7</th>\n",
       "      <td>8</td>\n",
       "      <td>0</td>\n",
       "      <td>b</td>\n",
       "    </tr>\n",
       "    <tr>\n",
       "      <th>8</th>\n",
       "      <td>9</td>\n",
       "      <td>0</td>\n",
       "      <td>b</td>\n",
       "    </tr>\n",
       "    <tr>\n",
       "      <th>9</th>\n",
       "      <td>10</td>\n",
       "      <td>0</td>\n",
       "      <td>a</td>\n",
       "    </tr>\n",
       "    <tr>\n",
       "      <th>10</th>\n",
       "      <td>11</td>\n",
       "      <td>0</td>\n",
       "      <td>a</td>\n",
       "    </tr>\n",
       "    <tr>\n",
       "      <th>11</th>\n",
       "      <td>12</td>\n",
       "      <td>0</td>\n",
       "      <td>a</td>\n",
       "    </tr>\n",
       "    <tr>\n",
       "      <th>12</th>\n",
       "      <td>13</td>\n",
       "      <td>0</td>\n",
       "      <td>a</td>\n",
       "    </tr>\n",
       "    <tr>\n",
       "      <th>13</th>\n",
       "      <td>14</td>\n",
       "      <td>0</td>\n",
       "      <td>b</td>\n",
       "    </tr>\n",
       "    <tr>\n",
       "      <th>14</th>\n",
       "      <td>15</td>\n",
       "      <td>0</td>\n",
       "      <td>a</td>\n",
       "    </tr>\n",
       "  </tbody>\n",
       "</table>\n",
       "</div>"
      ],
      "text/plain": [
       "   user_id revenue testgroup\n",
       "0        1       0         b\n",
       "1        2       0         a\n",
       "2        3       0         a\n",
       "3        4       0         b\n",
       "4        5       0         b\n",
       "5        6       0         b\n",
       "6        7       0         b\n",
       "7        8       0         b\n",
       "8        9       0         b\n",
       "9       10       0         a\n",
       "10      11       0         a\n",
       "11      12       0         a\n",
       "12      13       0         a\n",
       "13      14       0         b\n",
       "14      15       0         a"
      ]
     },
     "execution_count": 25,
     "metadata": {},
     "output_type": "execute_result"
    }
   ],
   "source": [
    "df.head(15)"
   ]
  },
  {
   "cell_type": "code",
   "execution_count": 26,
   "metadata": {},
   "outputs": [
    {
     "data": {
      "text/html": [
       "<div>\n",
       "<style scoped>\n",
       "    .dataframe tbody tr th:only-of-type {\n",
       "        vertical-align: middle;\n",
       "    }\n",
       "\n",
       "    .dataframe tbody tr th {\n",
       "        vertical-align: top;\n",
       "    }\n",
       "\n",
       "    .dataframe thead th {\n",
       "        text-align: right;\n",
       "    }\n",
       "</style>\n",
       "<table border=\"1\" class=\"dataframe\">\n",
       "  <thead>\n",
       "    <tr style=\"text-align: right;\">\n",
       "      <th></th>\n",
       "      <th>user_id</th>\n",
       "      <th>revenue</th>\n",
       "      <th>testgroup</th>\n",
       "    </tr>\n",
       "  </thead>\n",
       "  <tbody>\n",
       "    <tr>\n",
       "      <th>0</th>\n",
       "      <td>1</td>\n",
       "      <td>0</td>\n",
       "      <td>b</td>\n",
       "    </tr>\n",
       "    <tr>\n",
       "      <th>1</th>\n",
       "      <td>2</td>\n",
       "      <td>0</td>\n",
       "      <td>a</td>\n",
       "    </tr>\n",
       "    <tr>\n",
       "      <th>2</th>\n",
       "      <td>3</td>\n",
       "      <td>0</td>\n",
       "      <td>a</td>\n",
       "    </tr>\n",
       "    <tr>\n",
       "      <th>3</th>\n",
       "      <td>4</td>\n",
       "      <td>0</td>\n",
       "      <td>b</td>\n",
       "    </tr>\n",
       "    <tr>\n",
       "      <th>4</th>\n",
       "      <td>5</td>\n",
       "      <td>0</td>\n",
       "      <td>b</td>\n",
       "    </tr>\n",
       "    <tr>\n",
       "      <th>...</th>\n",
       "      <td>...</td>\n",
       "      <td>...</td>\n",
       "      <td>...</td>\n",
       "    </tr>\n",
       "    <tr>\n",
       "      <th>403994</th>\n",
       "      <td>403995</td>\n",
       "      <td>2793</td>\n",
       "      <td>b</td>\n",
       "    </tr>\n",
       "    <tr>\n",
       "      <th>404161</th>\n",
       "      <td>404162</td>\n",
       "      <td>2316</td>\n",
       "      <td>b</td>\n",
       "    </tr>\n",
       "    <tr>\n",
       "      <th>404193</th>\n",
       "      <td>404194</td>\n",
       "      <td>2998</td>\n",
       "      <td>b</td>\n",
       "    </tr>\n",
       "    <tr>\n",
       "      <th>404525</th>\n",
       "      <td>404526</td>\n",
       "      <td>3120</td>\n",
       "      <td>b</td>\n",
       "    </tr>\n",
       "    <tr>\n",
       "      <th>404543</th>\n",
       "      <td>404544</td>\n",
       "      <td>369</td>\n",
       "      <td>a</td>\n",
       "    </tr>\n",
       "  </tbody>\n",
       "</table>\n",
       "<p>2916 rows × 3 columns</p>\n",
       "</div>"
      ],
      "text/plain": [
       "       user_id revenue testgroup\n",
       "0            1       0         b\n",
       "1            2       0         a\n",
       "2            3       0         a\n",
       "3            4       0         b\n",
       "4            5       0         b\n",
       "...        ...     ...       ...\n",
       "403994  403995    2793         b\n",
       "404161  404162    2316         b\n",
       "404193  404194    2998         b\n",
       "404525  404526    3120         b\n",
       "404543  404544     369         a\n",
       "\n",
       "[2916 rows x 3 columns]"
      ]
     },
     "execution_count": 26,
     "metadata": {},
     "output_type": "execute_result"
    }
   ],
   "source": [
    "df.groupby('revenue').head()"
   ]
  },
  {
   "cell_type": "code",
   "execution_count": 27,
   "metadata": {},
   "outputs": [
    {
     "data": {
      "text/plain": [
       "dtype('O')"
      ]
     },
     "execution_count": 27,
     "metadata": {},
     "output_type": "execute_result"
    }
   ],
   "source": [
    "df['revenue'].dtype"
   ]
  },
  {
   "cell_type": "code",
   "execution_count": 28,
   "metadata": {},
   "outputs": [],
   "source": [
    "# Преобразование типа данных\n",
    "df['revenue'] = df['revenue'].str.strip().astype(float) #"
   ]
  },
  {
   "cell_type": "markdown",
   "metadata": {},
   "source": [
    "        # ARPU - средний доход с одного пользовтеля\n",
    "        # CR - процент конверсии в платящего пользователя\n",
    "        # Total Revenue - общий доход"
   ]
  },
  {
   "cell_type": "code",
   "execution_count": 29,
   "metadata": {},
   "outputs": [],
   "source": [
    "# Количество пользователей в каждой группе\n",
    "total_users_a = 202103\n",
    "total_users_b = 202667\n",
    "\n",
    "# Количество платящих пользователей\n",
    "paying_users_a = 1928\n",
    "paying_users_b = 1805\n",
    "\n",
    "# CR - процент конверсии в платящего\n",
    "CR_a = (paying_users_a / total_users_a) * 100\n",
    "CR_b = (paying_users_b / total_users_b) * 100"
   ]
  },
  {
   "cell_type": "code",
   "execution_count": 32,
   "metadata": {},
   "outputs": [
    {
     "name": "stdout",
     "output_type": "stream",
     "text": [
      "Контрольная группа (A):\n",
      "CR:0.95%\n",
      "Тестовая группа (B):\n",
      "CR:0.89%\n"
     ]
    }
   ],
   "source": [
    "print(f\"Контрольная группа (A):\")\n",
    "print(f\"CR:{CR_a:.2}%\")\n",
    "\n",
    "print(f\"Тестовая группа (B):\")\n",
    "print(f\"CR:{CR_b:.2f}%\")"
   ]
  },
  {
   "cell_type": "code",
   "execution_count": 33,
   "metadata": {},
   "outputs": [
    {
     "name": "stdout",
     "output_type": "stream",
     "text": [
      "Total Revenue Контрольная группа (A): 5136189.0\n",
      "Total Revenue Тестовая группа (B): 5421603.0\n"
     ]
    }
   ],
   "source": [
    "# Рассчитываем Total Revenue для групп A и B\n",
    "total_revenue_a = df[df['testgroup'] == 'a']['revenue'].sum()\n",
    "total_revenue_b = df[df['testgroup'] == 'b']['revenue'].sum()\n",
    "\n",
    "# Вывод результатов\n",
    "print(f\"Total Revenue Контрольная группа (A): {total_revenue_a}\")\n",
    "print(f\"Total Revenue Тестовая группа (B): {total_revenue_b}\")"
   ]
  },
  {
   "cell_type": "code",
   "execution_count": 34,
   "metadata": {},
   "outputs": [
    {
     "data": {
      "text/plain": [
       "285414.0"
      ]
     },
     "execution_count": 34,
     "metadata": {},
     "output_type": "execute_result"
    }
   ],
   "source": [
    "# Разница дохода:\n",
    "total_revenue_b - total_revenue_a"
   ]
  },
  {
   "cell_type": "code",
   "execution_count": 35,
   "metadata": {},
   "outputs": [
    {
     "data": {
      "text/plain": [
       "1.05"
      ]
     },
     "execution_count": 35,
     "metadata": {},
     "output_type": "execute_result"
    }
   ],
   "source": [
    "# Проверка о 5%\n",
    "ARPU_a = total_revenue_a / total_users_a\n",
    "ARPU_b = total_revenue_b / total_users_b\n",
    "round(ARPU_b / ARPU_a,2)"
   ]
  },
  {
   "cell_type": "markdown",
   "metadata": {},
   "source": [
    "                                        Проверка на стат значимость"
   ]
  },
  {
   "cell_type": "code",
   "execution_count": 36,
   "metadata": {},
   "outputs": [
    {
     "name": "stdout",
     "output_type": "stream",
     "text": [
      "T-statistic: -0.6242026493616787\n",
      "P-value: 0.532494858971837\n",
      "Различия между группами не являются статистически значимыми.\n"
     ]
    }
   ],
   "source": [
    "revenue_a = df[df['testgroup'] == 'a']['revenue']\n",
    "revenue_b = df[df['testgroup'] == 'b']['revenue']\n",
    "\n",
    "from scipy.stats import ttest_ind\n",
    "t_stat, p_value = ttest_ind(revenue_a, revenue_b)\n",
    "\n",
    "print(f\"T-statistic: {t_stat}\")\n",
    "print(f\"P-value: {p_value}\")\n",
    "\n",
    "if p_value < 0.05:\n",
    "    print(\"Различия между группами статистически значимы.\")\n",
    "else:\n",
    "    print(\"Различия между группами не являются статистически значимыми.\")"
   ]
  },
  {
   "cell_type": "markdown",
   "metadata": {},
   "source": [
    "Какой набор предложений можно считать лучшим? Какие метрики стоит проанализировать для принятия правильного решения и как?"
   ]
  },
  {
   "cell_type": "markdown",
   "metadata": {},
   "source": [
    "Выводы:\n",
    "1. Мы видим, что конверсия в платящего игрока в контрольной группе (группа А) выше, нежели в тестовой группе (группа В) - CR 0.95% и 0.89% соответственно.\n",
    "2. Средний чек по клиенту (ARPU) в группе В больше на 5%. \n",
    "3. Общий доход (Total Revenue) группы В больше и равна 5421603, в группе А = 5136189 (разница 285414).\n",
    "4. Различия между группами не являются статистически значимыми.\n",
    "\n",
    "    На данном этапе трудно сказать, какой набор предложений является лучшим. Общий доход тестовой группы больше, несмотря на уменьшенную конвертацию по сравнению с контрольной группой. Однако бОльшая конверсия контрольной группы указывает на то, что игроки чаще покупают предложенные наборы. \n",
    "    Если цель увеличить общий доход, то набор предложений для тестовой группы показывает лучшие результаты. Если же цель заключается в увеличении конверсии в платящего пользователя, то предложения для контрольной группы показывают лучший результат.\n",
    "    \n",
    "    Для понимания какой из наборов будет лучшим, следут проверить дополнительные метрики - LTV (как изменится прибыль с игрока за время пользованием продукта в рамках двух этих наборов предложений), Retention (как эти два набора предложений повлияют на долгосрочную вовлеченность игроков), стоимость привлечения одного игрока. Возмодно дополнительно следует провести RFM-сегментацию, дабы понять какие наборы и как будут влиять на разные группы."
   ]
  },
  {
   "cell_type": "markdown",
   "metadata": {},
   "source": [
    "\n"
   ]
  },
  {
   "cell_type": "markdown",
   "metadata": {},
   "source": [
    "                                                    # Задание 3\n",
    "В игре Plants & Gardens каждый месяц проводятся тематические события, ограниченные по времени. В них игроки могут получить уникальные предметы для сада и персонажей, дополнительные монеты или бонусы. Для получения награды требуется пройти ряд уровней за определенное время. С помощью каких метрик можно оценить результаты последнего прошедшего события?\n",
    "\n",
    "Предположим, в другом событии мы усложнили механику событий так, что при каждой неудачной попытке выполнения уровня игрок будет откатываться на несколько уровней назад. Изменится ли набор метрик оценки результата? Если да, то как?"
   ]
  },
  {
   "cell_type": "markdown",
   "metadata": {},
   "source": [
    "                    1. С помощью каких метрик можно оценить результаты последнего прошедшего события?\n",
    "        1. DAU/MAU - сколько уникальных пользователей участвовало в событии.\n",
    "        2. Retantion - сколько число игроков вернулось в игру в момент старта события; процент удержания игроков на период проведения мероприятия.\n",
    "        3. Конверсия в игру (CR) - сколько игроков играло в событие по отношению к общему числу игроков игры.\n",
    "        4. Churn rate - сколько игроков ушло после первой миссии события, то есть не продолжили играть (показывает заинтересованность в событии. Смогло ли оно сразу увлечь игроков).\n",
    "        5. Total Revenue события.\n",
    "        6. ARPU - повлияло ли событие на средний чек игрока\n",
    "        7. Сколько игроков закончили тематическое событие.\n",
    "        8. Среднее число уровней, которое смогли пройти игроки.\n",
    "        9. Самые сложные уровни, после которых уходило больше всего людей.\n",
    "        10. Обратная связь игроков - отзывы, рейтинг игры."
   ]
  },
  {
   "cell_type": "markdown",
   "metadata": {},
   "source": [
    "                  2. Предположим, в другом событии мы усложнили механику событий так, что при каждой неудачной попытке выполнения уровня игрок будет откатываться на несколько уровней назад. Изменится ли набор метрик оценки результата? Если да, то как?\n",
    "                  \n",
    "Данный механизм повлияет на набор метрик, потребуются дополнительно новые метрики для более точной оценки:\n",
    "\n",
    "1. Среднее количество повторных попыток на уровне.\n",
    "2. Сколько пользователей откатывалось назад хотя бы раз.\n",
    "3. Среднее время игрока на уровень.\n",
    "4. Churn rate false - сколько игроков ушло после первого провала в событии.\n",
    "5. Затраты на игрока в месяц - есть ощущение, что сообщений в поддержку будет больше из-за увеличивающейся сложности казуальной игры.\n",
    "\n",
    "Также усложнение игры повлияет на все предыдущие метрики (с примером возможного изменения метрик):\n",
    "1. DAU/MAU - данное усложнение может как привлечь более хардкорных игроков, так и оттолкнуть казуальных.\n",
    "2. Retantion\n",
    "3. Конверсия в игру (CR)\n",
    "4. Churn rate - для казуальной игры усложнение может изменить показания данной метрики\n",
    "5. Total Revenue события - есть шанс, что усложнение вынудит прибегать к дополнительным внутриигровым покупкам, так и шанс, что ноборот оттолкнет от такого рода принуждения к покупкам\n",
    "6. ARPU - также может измениться в связи с новыми покупками из-за усложнения игры\n",
    "7. Сколько игроков закончили тематическое событие - так как событие ограничено по времени и могут проихсодить откаты, то это также повлияет на данную метрику\n",
    "8. Среднее число уровней, которое смогли пройти игроки\n",
    "9. Самые сложные уровни, после которых уходило больше всего людей - возможно данный показатель изменится, если игроков вообще стало забрасывать игру больше, то есть на более ранних этапах игры. \n",
    "10. Обратная связь игроков - отзывы, рейтинг игры - трудно сказать как изменится данная метрика. Окажется ли число казуальный игроков, недовольных событием, больше чем хаодкорных или тех, у кого есть различные пропуски/подписки/дополнительные паки. Всё зависит от реализации самого события.\n",
    "\n",
    "Уверенно сказать как именно повлияет усложнение механики события на итоговый продукт невозможно без рассмотрения в деталях всех метрик и проведении А/В тестирования."
   ]
  },
  {
   "cell_type": "code",
   "execution_count": null,
   "metadata": {},
   "outputs": [],
   "source": []
  }
 ],
 "metadata": {
  "kernelspec": {
   "display_name": "Python 3",
   "language": "python",
   "name": "python3"
  },
  "language_info": {
   "codemirror_mode": {
    "name": "ipython",
    "version": 3
   },
   "file_extension": ".py",
   "mimetype": "text/x-python",
   "name": "python",
   "nbconvert_exporter": "python",
   "pygments_lexer": "ipython3",
   "version": "3.7.3"
  }
 },
 "nbformat": 4,
 "nbformat_minor": 4
}
